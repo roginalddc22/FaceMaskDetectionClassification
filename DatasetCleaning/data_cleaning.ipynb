{
 "cells": [
  {
   "cell_type": "code",
   "execution_count": 35,
   "id": "56356954",
   "metadata": {},
   "outputs": [],
   "source": [
    "import pandas as pd\n",
    "import shutil\n",
    "import os\n",
    "import sys"
   ]
  },
  {
   "cell_type": "code",
   "execution_count": 36,
   "id": "be432c12",
   "metadata": {},
   "outputs": [],
   "source": [
    "df = pd.read_csv(\"train.csv\")"
   ]
  },
  {
   "cell_type": "code",
   "execution_count": 37,
   "id": "500ec1b7",
   "metadata": {},
   "outputs": [
    {
     "data": {
      "text/plain": [
       "<bound method NDFrame.head of            name   x1   x2   y1   y2       classname\n",
       "0      2756.png   69  126  294  392  face_with_mask\n",
       "1      2756.png  505   10  723  283  face_with_mask\n",
       "2      2756.png   75  252  264  390   mask_colorful\n",
       "3      2756.png  521  136  711  277   mask_colorful\n",
       "4      6098.jpg  360   85  728  653    face_no_mask\n",
       "...         ...  ...  ...  ...  ...             ...\n",
       "15407  1894.jpg  437  121  907  644  face_with_mask\n",
       "15408  1894.jpg  557  363  876  636   mask_surgical\n",
       "15409  1894.jpg  411    3  940  325             hat\n",
       "15410  3216.png  126   69  409  463  face_with_mask\n",
       "15411  3216.png  136  289  393  461   mask_colorful\n",
       "\n",
       "[15412 rows x 6 columns]>"
      ]
     },
     "execution_count": 37,
     "metadata": {},
     "output_type": "execute_result"
    }
   ],
   "source": [
    "df.head"
   ]
  },
  {
   "cell_type": "code",
   "execution_count": 38,
   "id": "8f8e1aff",
   "metadata": {},
   "outputs": [],
   "source": [
    "correct_mask = df[df[\"classname\"] == \"face_with_mask\"]"
   ]
  },
  {
   "cell_type": "code",
   "execution_count": 39,
   "id": "e6e7b5a8",
   "metadata": {},
   "outputs": [],
   "source": [
    "correct_mask = correct_mask.drop_duplicates(subset=[\"name\"])"
   ]
  },
  {
   "cell_type": "code",
   "execution_count": 40,
   "id": "605cfe93",
   "metadata": {},
   "outputs": [],
   "source": [
    "correct_mask.drop(['x1', 'x2', 'y1', 'y2'], axis='columns', inplace=True)"
   ]
  },
  {
   "cell_type": "code",
   "execution_count": 41,
   "id": "9995437d",
   "metadata": {},
   "outputs": [
    {
     "data": {
      "text/plain": [
       "<bound method NDFrame.head of            name       classname\n",
       "0      2756.png  face_with_mask\n",
       "7      4591.png  face_with_mask\n",
       "16     4287.png  face_with_mask\n",
       "17     4893.png  face_with_mask\n",
       "19     1987.jpg  face_with_mask\n",
       "...         ...             ...\n",
       "15381  3646.png  face_with_mask\n",
       "15395  4149.png  face_with_mask\n",
       "15399  3389.png  face_with_mask\n",
       "15407  1894.jpg  face_with_mask\n",
       "15410  3216.png  face_with_mask\n",
       "\n",
       "[2622 rows x 2 columns]>"
      ]
     },
     "execution_count": 41,
     "metadata": {},
     "output_type": "execute_result"
    }
   ],
   "source": [
    "correct_mask.head"
   ]
  },
  {
   "cell_type": "code",
   "execution_count": 42,
   "id": "46b1cfa0",
   "metadata": {},
   "outputs": [],
   "source": [
    "nomask = df[df[\"classname\"] == \"face_no_mask\"]"
   ]
  },
  {
   "cell_type": "code",
   "execution_count": 43,
   "id": "c7bc943e",
   "metadata": {},
   "outputs": [],
   "source": [
    "nomask = nomask.drop_duplicates(subset=[\"name\"])"
   ]
  },
  {
   "cell_type": "code",
   "execution_count": 44,
   "id": "69b221a3",
   "metadata": {},
   "outputs": [],
   "source": [
    "nomask.drop(['x1', 'x2', 'y1', 'y2'], axis='columns', inplace=True)"
   ]
  },
  {
   "cell_type": "code",
   "execution_count": 45,
   "id": "6c18c8a6",
   "metadata": {},
   "outputs": [],
   "source": [
    "incorrect_mask = df[df[\"classname\"] == \"face_with_mask_incorrect\"]"
   ]
  },
  {
   "cell_type": "code",
   "execution_count": 46,
   "id": "336b97ce",
   "metadata": {},
   "outputs": [],
   "source": [
    "incorrect_mask = incorrect_mask.drop_duplicates(subset=[\"name\"])"
   ]
  },
  {
   "cell_type": "code",
   "execution_count": 47,
   "id": "e677b780",
   "metadata": {},
   "outputs": [],
   "source": [
    "incorrect_mask.drop(['x1', 'x2', 'y1', 'y2'], axis='columns', inplace=True)"
   ]
  },
  {
   "cell_type": "code",
   "execution_count": 48,
   "id": "36d11d6d",
   "metadata": {},
   "outputs": [
    {
     "data": {
      "text/plain": [
       "<bound method NDFrame.head of            name                 classname\n",
       "5      6427.png  face_with_mask_incorrect\n",
       "45     3939.png  face_with_mask_incorrect\n",
       "110    3793.png  face_with_mask_incorrect\n",
       "304    4662.png  face_with_mask_incorrect\n",
       "563    6418.png  face_with_mask_incorrect\n",
       "...         ...                       ...\n",
       "14489  4143.png  face_with_mask_incorrect\n",
       "14537  1858.jpg  face_with_mask_incorrect\n",
       "14587  3242.png  face_with_mask_incorrect\n",
       "15063  5166.jpg  face_with_mask_incorrect\n",
       "15375  4383.png  face_with_mask_incorrect\n",
       "\n",
       "[131 rows x 2 columns]>"
      ]
     },
     "execution_count": 48,
     "metadata": {},
     "output_type": "execute_result"
    }
   ],
   "source": [
    "incorrect_mask.head"
   ]
  },
  {
   "cell_type": "code",
   "execution_count": 49,
   "id": "6c33289b",
   "metadata": {},
   "outputs": [],
   "source": [
    "# folder directories\n",
    "# ImagesDir = r'C:\\Users\\rogin\\Desktop\\DATASET\\D1\\Medical mask\\Medical mask\\Medical Mask\\images'\n",
    "# SortedDir= r\"D:\\Mapua Files\\Thesis Main\\FaceMaskDetectionClassification\\DatasetCleaning\\Sorted\"\n",
    "\n",
    "# if not os.path.exists(SortedDir):\n",
    "#     os.mkdir(SortedDir)\n",
    "    \n",
    "# for filename, class_name in correct_mask.values: \n",
    "#     if not os.path.exists(SortedDir + (class_name)):\n",
    "#         os.mkdir(SortedDir + str(class_name))\n",
    "#     src_path = ImagesDir + '/' + filename\n",
    "#     dst_path = SortedDir + str(class_name) + '/' + filename\n",
    "#     shutil.copy(src_path, dst_path)\n",
    "\n",
    "# for filename, class_name in nomask.values: \n",
    "#     if not os.path.exists(SortedDir + str(class_name)):\n",
    "#         os.mkdir(SortedDir + str(class_name))\n",
    "#     src_path = ImagesDir + '/' + filename\n",
    "#     dst_path = SortedDir + str(class_name) + '/' + filename\n",
    "#     shutil.copy(src_path, dst_path)\n",
    "    \n",
    "# for filename, class_name in incorrect_mask.values: \n",
    "#     if not os.path.exists(SortedDir + str(class_name)):\n",
    "#         os.mkdir(SortedDir + str(class_name))\n",
    "#     src_path = ImagesDir + '/' + filename\n",
    "#     dst_path = SortedDir + str(class_name) + '/' + filename\n",
    "#     shutil.copy(src_path, dst_path)"
   ]
  },
  {
   "cell_type": "code",
   "execution_count": 50,
   "id": "d3e58f16",
   "metadata": {},
   "outputs": [
    {
     "data": {
      "text/plain": [
       "array(['face_with_mask', 'mask_colorful', 'face_no_mask',\n",
       "       'face_with_mask_incorrect', 'mask_surgical', 'face_other_covering',\n",
       "       'scarf_bandana', 'eyeglasses', 'helmet', 'face_shield',\n",
       "       'sunglasses', 'hood', 'hat', 'goggles', 'hair_net', 'hijab_niqab',\n",
       "       'other', 'gas_mask', 'balaclava_ski_mask', 'turban'], dtype=object)"
      ]
     },
     "execution_count": 50,
     "metadata": {},
     "output_type": "execute_result"
    }
   ],
   "source": [
    "df.classname.unique()"
   ]
  },
  {
   "cell_type": "code",
   "execution_count": 51,
   "id": "79f739de",
   "metadata": {},
   "outputs": [],
   "source": [
    "accepted_classes = ['face_with_mask', 'face_no_mask',\n",
    "       'face_with_mask_incorrect', 'face_other_covering']\n",
    "\n",
    "classes_df = df[df[\"classname\"].isin(accepted_classes)]"
   ]
  },
  {
   "cell_type": "code",
   "execution_count": 52,
   "id": "145c38eb",
   "metadata": {},
   "outputs": [],
   "source": [
    "class_bool = pd.get_dummies(classes_df[\"classname\"])"
   ]
  },
  {
   "cell_type": "code",
   "execution_count": 53,
   "id": "fece2f6e",
   "metadata": {},
   "outputs": [],
   "source": [
    "final_class = classes_df.join(class_bool[[\"face_no_mask\", \"face_other_covering\", \"face_with_mask\", \"face_with_mask_incorrect\"]])"
   ]
  },
  {
   "cell_type": "code",
   "execution_count": 54,
   "id": "b866f8f2",
   "metadata": {},
   "outputs": [
    {
     "data": {
      "text/html": [
       "<div>\n",
       "<style scoped>\n",
       "    .dataframe tbody tr th:only-of-type {\n",
       "        vertical-align: middle;\n",
       "    }\n",
       "\n",
       "    .dataframe tbody tr th {\n",
       "        vertical-align: top;\n",
       "    }\n",
       "\n",
       "    .dataframe thead th {\n",
       "        text-align: right;\n",
       "    }\n",
       "</style>\n",
       "<table border=\"1\" class=\"dataframe\">\n",
       "  <thead>\n",
       "    <tr style=\"text-align: right;\">\n",
       "      <th></th>\n",
       "      <th>name</th>\n",
       "      <th>x1</th>\n",
       "      <th>x2</th>\n",
       "      <th>y1</th>\n",
       "      <th>y2</th>\n",
       "      <th>classname</th>\n",
       "      <th>face_no_mask</th>\n",
       "      <th>face_other_covering</th>\n",
       "      <th>face_with_mask</th>\n",
       "      <th>face_with_mask_incorrect</th>\n",
       "    </tr>\n",
       "  </thead>\n",
       "  <tbody>\n",
       "    <tr>\n",
       "      <th>0</th>\n",
       "      <td>2756.png</td>\n",
       "      <td>69</td>\n",
       "      <td>126</td>\n",
       "      <td>294</td>\n",
       "      <td>392</td>\n",
       "      <td>face_with_mask</td>\n",
       "      <td>0</td>\n",
       "      <td>0</td>\n",
       "      <td>1</td>\n",
       "      <td>0</td>\n",
       "    </tr>\n",
       "    <tr>\n",
       "      <th>1</th>\n",
       "      <td>2756.png</td>\n",
       "      <td>505</td>\n",
       "      <td>10</td>\n",
       "      <td>723</td>\n",
       "      <td>283</td>\n",
       "      <td>face_with_mask</td>\n",
       "      <td>0</td>\n",
       "      <td>0</td>\n",
       "      <td>1</td>\n",
       "      <td>0</td>\n",
       "    </tr>\n",
       "    <tr>\n",
       "      <th>4</th>\n",
       "      <td>6098.jpg</td>\n",
       "      <td>360</td>\n",
       "      <td>85</td>\n",
       "      <td>728</td>\n",
       "      <td>653</td>\n",
       "      <td>face_no_mask</td>\n",
       "      <td>1</td>\n",
       "      <td>0</td>\n",
       "      <td>0</td>\n",
       "      <td>0</td>\n",
       "    </tr>\n",
       "    <tr>\n",
       "      <th>5</th>\n",
       "      <td>6427.png</td>\n",
       "      <td>218</td>\n",
       "      <td>98</td>\n",
       "      <td>577</td>\n",
       "      <td>580</td>\n",
       "      <td>face_with_mask_incorrect</td>\n",
       "      <td>0</td>\n",
       "      <td>0</td>\n",
       "      <td>0</td>\n",
       "      <td>1</td>\n",
       "    </tr>\n",
       "    <tr>\n",
       "      <th>7</th>\n",
       "      <td>4591.png</td>\n",
       "      <td>239</td>\n",
       "      <td>9</td>\n",
       "      <td>522</td>\n",
       "      <td>342</td>\n",
       "      <td>face_with_mask</td>\n",
       "      <td>0</td>\n",
       "      <td>0</td>\n",
       "      <td>1</td>\n",
       "      <td>0</td>\n",
       "    </tr>\n",
       "    <tr>\n",
       "      <th>...</th>\n",
       "      <td>...</td>\n",
       "      <td>...</td>\n",
       "      <td>...</td>\n",
       "      <td>...</td>\n",
       "      <td>...</td>\n",
       "      <td>...</td>\n",
       "      <td>...</td>\n",
       "      <td>...</td>\n",
       "      <td>...</td>\n",
       "      <td>...</td>\n",
       "    </tr>\n",
       "    <tr>\n",
       "      <th>15402</th>\n",
       "      <td>4883.png</td>\n",
       "      <td>236</td>\n",
       "      <td>22</td>\n",
       "      <td>497</td>\n",
       "      <td>343</td>\n",
       "      <td>face_other_covering</td>\n",
       "      <td>0</td>\n",
       "      <td>1</td>\n",
       "      <td>0</td>\n",
       "      <td>0</td>\n",
       "    </tr>\n",
       "    <tr>\n",
       "      <th>15404</th>\n",
       "      <td>2460.png</td>\n",
       "      <td>261</td>\n",
       "      <td>36</td>\n",
       "      <td>417</td>\n",
       "      <td>239</td>\n",
       "      <td>face_other_covering</td>\n",
       "      <td>0</td>\n",
       "      <td>1</td>\n",
       "      <td>0</td>\n",
       "      <td>0</td>\n",
       "    </tr>\n",
       "    <tr>\n",
       "      <th>15405</th>\n",
       "      <td>2460.png</td>\n",
       "      <td>650</td>\n",
       "      <td>5</td>\n",
       "      <td>805</td>\n",
       "      <td>184</td>\n",
       "      <td>face_no_mask</td>\n",
       "      <td>1</td>\n",
       "      <td>0</td>\n",
       "      <td>0</td>\n",
       "      <td>0</td>\n",
       "    </tr>\n",
       "    <tr>\n",
       "      <th>15407</th>\n",
       "      <td>1894.jpg</td>\n",
       "      <td>437</td>\n",
       "      <td>121</td>\n",
       "      <td>907</td>\n",
       "      <td>644</td>\n",
       "      <td>face_with_mask</td>\n",
       "      <td>0</td>\n",
       "      <td>0</td>\n",
       "      <td>1</td>\n",
       "      <td>0</td>\n",
       "    </tr>\n",
       "    <tr>\n",
       "      <th>15410</th>\n",
       "      <td>3216.png</td>\n",
       "      <td>126</td>\n",
       "      <td>69</td>\n",
       "      <td>409</td>\n",
       "      <td>463</td>\n",
       "      <td>face_with_mask</td>\n",
       "      <td>0</td>\n",
       "      <td>0</td>\n",
       "      <td>1</td>\n",
       "      <td>0</td>\n",
       "    </tr>\n",
       "  </tbody>\n",
       "</table>\n",
       "<p>7271 rows × 10 columns</p>\n",
       "</div>"
      ],
      "text/plain": [
       "           name   x1   x2   y1   y2                 classname  face_no_mask  \\\n",
       "0      2756.png   69  126  294  392            face_with_mask             0   \n",
       "1      2756.png  505   10  723  283            face_with_mask             0   \n",
       "4      6098.jpg  360   85  728  653              face_no_mask             1   \n",
       "5      6427.png  218   98  577  580  face_with_mask_incorrect             0   \n",
       "7      4591.png  239    9  522  342            face_with_mask             0   \n",
       "...         ...  ...  ...  ...  ...                       ...           ...   \n",
       "15402  4883.png  236   22  497  343       face_other_covering             0   \n",
       "15404  2460.png  261   36  417  239       face_other_covering             0   \n",
       "15405  2460.png  650    5  805  184              face_no_mask             1   \n",
       "15407  1894.jpg  437  121  907  644            face_with_mask             0   \n",
       "15410  3216.png  126   69  409  463            face_with_mask             0   \n",
       "\n",
       "       face_other_covering  face_with_mask  face_with_mask_incorrect  \n",
       "0                        0               1                         0  \n",
       "1                        0               1                         0  \n",
       "4                        0               0                         0  \n",
       "5                        0               0                         1  \n",
       "7                        0               1                         0  \n",
       "...                    ...             ...                       ...  \n",
       "15402                    1               0                         0  \n",
       "15404                    1               0                         0  \n",
       "15405                    0               0                         0  \n",
       "15407                    0               1                         0  \n",
       "15410                    0               1                         0  \n",
       "\n",
       "[7271 rows x 10 columns]"
      ]
     },
     "execution_count": 54,
     "metadata": {},
     "output_type": "execute_result"
    }
   ],
   "source": [
    "final_class"
   ]
  },
  {
   "cell_type": "code",
   "execution_count": 55,
   "id": "74013d2d",
   "metadata": {},
   "outputs": [
    {
     "data": {
      "text/html": [
       "<div>\n",
       "<style scoped>\n",
       "    .dataframe tbody tr th:only-of-type {\n",
       "        vertical-align: middle;\n",
       "    }\n",
       "\n",
       "    .dataframe tbody tr th {\n",
       "        vertical-align: top;\n",
       "    }\n",
       "\n",
       "    .dataframe thead th {\n",
       "        text-align: right;\n",
       "    }\n",
       "</style>\n",
       "<table border=\"1\" class=\"dataframe\">\n",
       "  <thead>\n",
       "    <tr style=\"text-align: right;\">\n",
       "      <th></th>\n",
       "      <th>name</th>\n",
       "      <th>x1</th>\n",
       "      <th>x2</th>\n",
       "      <th>y1</th>\n",
       "      <th>y2</th>\n",
       "      <th>classname</th>\n",
       "      <th>face_no_mask</th>\n",
       "      <th>face_other_covering</th>\n",
       "      <th>face_with_mask</th>\n",
       "      <th>face_with_mask_incorrect</th>\n",
       "    </tr>\n",
       "  </thead>\n",
       "  <tbody>\n",
       "    <tr>\n",
       "      <th>9</th>\n",
       "      <td>5392.jpg</td>\n",
       "      <td>261</td>\n",
       "      <td>0</td>\n",
       "      <td>444</td>\n",
       "      <td>257</td>\n",
       "      <td>face_other_covering</td>\n",
       "      <td>0</td>\n",
       "      <td>1</td>\n",
       "      <td>0</td>\n",
       "      <td>0</td>\n",
       "    </tr>\n",
       "    <tr>\n",
       "      <th>26</th>\n",
       "      <td>3754.png</td>\n",
       "      <td>353</td>\n",
       "      <td>181</td>\n",
       "      <td>641</td>\n",
       "      <td>478</td>\n",
       "      <td>face_other_covering</td>\n",
       "      <td>0</td>\n",
       "      <td>1</td>\n",
       "      <td>0</td>\n",
       "      <td>0</td>\n",
       "    </tr>\n",
       "    <tr>\n",
       "      <th>30</th>\n",
       "      <td>5342.jpg</td>\n",
       "      <td>374</td>\n",
       "      <td>17</td>\n",
       "      <td>467</td>\n",
       "      <td>136</td>\n",
       "      <td>face_other_covering</td>\n",
       "      <td>0</td>\n",
       "      <td>1</td>\n",
       "      <td>0</td>\n",
       "      <td>0</td>\n",
       "    </tr>\n",
       "    <tr>\n",
       "      <th>47</th>\n",
       "      <td>3939.png</td>\n",
       "      <td>626</td>\n",
       "      <td>106</td>\n",
       "      <td>666</td>\n",
       "      <td>159</td>\n",
       "      <td>face_other_covering</td>\n",
       "      <td>0</td>\n",
       "      <td>1</td>\n",
       "      <td>0</td>\n",
       "      <td>0</td>\n",
       "    </tr>\n",
       "    <tr>\n",
       "      <th>75</th>\n",
       "      <td>6358.jpg</td>\n",
       "      <td>717</td>\n",
       "      <td>60</td>\n",
       "      <td>912</td>\n",
       "      <td>312</td>\n",
       "      <td>face_other_covering</td>\n",
       "      <td>0</td>\n",
       "      <td>1</td>\n",
       "      <td>0</td>\n",
       "      <td>0</td>\n",
       "    </tr>\n",
       "    <tr>\n",
       "      <th>...</th>\n",
       "      <td>...</td>\n",
       "      <td>...</td>\n",
       "      <td>...</td>\n",
       "      <td>...</td>\n",
       "      <td>...</td>\n",
       "      <td>...</td>\n",
       "      <td>...</td>\n",
       "      <td>...</td>\n",
       "      <td>...</td>\n",
       "      <td>...</td>\n",
       "    </tr>\n",
       "    <tr>\n",
       "      <th>15387</th>\n",
       "      <td>4054.png</td>\n",
       "      <td>45</td>\n",
       "      <td>4</td>\n",
       "      <td>379</td>\n",
       "      <td>400</td>\n",
       "      <td>face_other_covering</td>\n",
       "      <td>0</td>\n",
       "      <td>1</td>\n",
       "      <td>0</td>\n",
       "      <td>0</td>\n",
       "    </tr>\n",
       "    <tr>\n",
       "      <th>15390</th>\n",
       "      <td>3621.png</td>\n",
       "      <td>512</td>\n",
       "      <td>164</td>\n",
       "      <td>591</td>\n",
       "      <td>281</td>\n",
       "      <td>face_other_covering</td>\n",
       "      <td>0</td>\n",
       "      <td>1</td>\n",
       "      <td>0</td>\n",
       "      <td>0</td>\n",
       "    </tr>\n",
       "    <tr>\n",
       "      <th>15393</th>\n",
       "      <td>3621.png</td>\n",
       "      <td>133</td>\n",
       "      <td>235</td>\n",
       "      <td>218</td>\n",
       "      <td>353</td>\n",
       "      <td>face_other_covering</td>\n",
       "      <td>0</td>\n",
       "      <td>1</td>\n",
       "      <td>0</td>\n",
       "      <td>0</td>\n",
       "    </tr>\n",
       "    <tr>\n",
       "      <th>15402</th>\n",
       "      <td>4883.png</td>\n",
       "      <td>236</td>\n",
       "      <td>22</td>\n",
       "      <td>497</td>\n",
       "      <td>343</td>\n",
       "      <td>face_other_covering</td>\n",
       "      <td>0</td>\n",
       "      <td>1</td>\n",
       "      <td>0</td>\n",
       "      <td>0</td>\n",
       "    </tr>\n",
       "    <tr>\n",
       "      <th>15404</th>\n",
       "      <td>2460.png</td>\n",
       "      <td>261</td>\n",
       "      <td>36</td>\n",
       "      <td>417</td>\n",
       "      <td>239</td>\n",
       "      <td>face_other_covering</td>\n",
       "      <td>0</td>\n",
       "      <td>1</td>\n",
       "      <td>0</td>\n",
       "      <td>0</td>\n",
       "    </tr>\n",
       "  </tbody>\n",
       "</table>\n",
       "<p>1372 rows × 10 columns</p>\n",
       "</div>"
      ],
      "text/plain": [
       "           name   x1   x2   y1   y2            classname  face_no_mask  \\\n",
       "9      5392.jpg  261    0  444  257  face_other_covering             0   \n",
       "26     3754.png  353  181  641  478  face_other_covering             0   \n",
       "30     5342.jpg  374   17  467  136  face_other_covering             0   \n",
       "47     3939.png  626  106  666  159  face_other_covering             0   \n",
       "75     6358.jpg  717   60  912  312  face_other_covering             0   \n",
       "...         ...  ...  ...  ...  ...                  ...           ...   \n",
       "15387  4054.png   45    4  379  400  face_other_covering             0   \n",
       "15390  3621.png  512  164  591  281  face_other_covering             0   \n",
       "15393  3621.png  133  235  218  353  face_other_covering             0   \n",
       "15402  4883.png  236   22  497  343  face_other_covering             0   \n",
       "15404  2460.png  261   36  417  239  face_other_covering             0   \n",
       "\n",
       "       face_other_covering  face_with_mask  face_with_mask_incorrect  \n",
       "9                        1               0                         0  \n",
       "26                       1               0                         0  \n",
       "30                       1               0                         0  \n",
       "47                       1               0                         0  \n",
       "75                       1               0                         0  \n",
       "...                    ...             ...                       ...  \n",
       "15387                    1               0                         0  \n",
       "15390                    1               0                         0  \n",
       "15393                    1               0                         0  \n",
       "15402                    1               0                         0  \n",
       "15404                    1               0                         0  \n",
       "\n",
       "[1372 rows x 10 columns]"
      ]
     },
     "execution_count": 55,
     "metadata": {},
     "output_type": "execute_result"
    }
   ],
   "source": [
    "final_class[final_class[\"face_other_covering\"] == 1]"
   ]
  },
  {
   "cell_type": "code",
   "execution_count": 56,
   "id": "4ab7dcbb",
   "metadata": {},
   "outputs": [],
   "source": [
    "final_class.loc[(final_class[\"face_with_mask_incorrect\"] == 1) | (final_class[\"face_other_covering\"] == 1), \"face_with_mask_incorrect\"] = 1"
   ]
  },
  {
   "cell_type": "code",
   "execution_count": 57,
   "id": "bfb3648f",
   "metadata": {},
   "outputs": [
    {
     "data": {
      "text/html": [
       "<div>\n",
       "<style scoped>\n",
       "    .dataframe tbody tr th:only-of-type {\n",
       "        vertical-align: middle;\n",
       "    }\n",
       "\n",
       "    .dataframe tbody tr th {\n",
       "        vertical-align: top;\n",
       "    }\n",
       "\n",
       "    .dataframe thead th {\n",
       "        text-align: right;\n",
       "    }\n",
       "</style>\n",
       "<table border=\"1\" class=\"dataframe\">\n",
       "  <thead>\n",
       "    <tr style=\"text-align: right;\">\n",
       "      <th></th>\n",
       "      <th>name</th>\n",
       "      <th>x1</th>\n",
       "      <th>x2</th>\n",
       "      <th>y1</th>\n",
       "      <th>y2</th>\n",
       "      <th>classname</th>\n",
       "      <th>face_no_mask</th>\n",
       "      <th>face_other_covering</th>\n",
       "      <th>face_with_mask</th>\n",
       "      <th>face_with_mask_incorrect</th>\n",
       "    </tr>\n",
       "  </thead>\n",
       "  <tbody>\n",
       "  </tbody>\n",
       "</table>\n",
       "</div>"
      ],
      "text/plain": [
       "Empty DataFrame\n",
       "Columns: [name, x1, x2, y1, y2, classname, face_no_mask, face_other_covering, face_with_mask, face_with_mask_incorrect]\n",
       "Index: []"
      ]
     },
     "execution_count": 57,
     "metadata": {},
     "output_type": "execute_result"
    }
   ],
   "source": [
    "final_class[(final_class[\"face_other_covering\"] == 1) & (final_class[\"face_with_mask_incorrect\"] == 0)]"
   ]
  },
  {
   "cell_type": "code",
   "execution_count": 58,
   "id": "7e491d5b",
   "metadata": {},
   "outputs": [
    {
     "data": {
      "text/plain": [
       "(7271, 10)"
      ]
     },
     "execution_count": 58,
     "metadata": {},
     "output_type": "execute_result"
    }
   ],
   "source": [
    "final_class.shape"
   ]
  },
  {
   "cell_type": "code",
   "execution_count": null,
   "id": "40b14b55",
   "metadata": {},
   "outputs": [],
   "source": []
  }
 ],
 "metadata": {
  "kernelspec": {
   "display_name": "Python 3 (ipykernel)",
   "language": "python",
   "name": "python3"
  },
  "language_info": {
   "codemirror_mode": {
    "name": "ipython",
    "version": 3
   },
   "file_extension": ".py",
   "mimetype": "text/x-python",
   "name": "python",
   "nbconvert_exporter": "python",
   "pygments_lexer": "ipython3",
   "version": "3.9.7"
  }
 },
 "nbformat": 4,
 "nbformat_minor": 5
}
