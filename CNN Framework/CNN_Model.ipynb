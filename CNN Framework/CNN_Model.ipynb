{
 "cells": [
  {
   "cell_type": "code",
   "execution_count": 1,
   "metadata": {},
   "outputs": [],
   "source": [
    "import matplotlib.pyplot as plt\n",
    "import numpy as np\n",
    "import os\n",
    "import pandas as pd\n",
    "import random\n",
    "import cv2\n",
    "import tensorflow as tf\n",
    "from sklearn.utils import shuffle\n",
    "from sklearn.model_selection import train_test_split\n",
    "from sklearn.datasets import load_sample_image"
   ]
  },
  {
   "cell_type": "markdown",
   "metadata": {},
   "source": [
    "### Preparing the Dataset"
   ]
  },
  {
   "cell_type": "code",
   "execution_count": 2,
   "metadata": {},
   "outputs": [],
   "source": [
    "BATCH_SIZE = 32\n",
    "IMG_SIZE   = (128, 128)\n",
    "\n",
    "percent_train = 0.7\n",
    "percent_val   = 0.1\n",
    "percent_test  = 0.2\n",
    "\n",
    "IMAGES_DIR  = '../DatasetCleaning/'\n",
    "SUBFOLDERS  = [ 'croppedface_no_mask', 'croppedface_with_mask', 'croppedface_with_mask_incorrect', 'croppedface_other_covering']\n",
    "TYPE_DIRS   = { \n",
    "                'croppedface_other_covering': 'invalid', \n",
    "                'croppedface_with_mask': 'valid',\n",
    "                'croppedface_no_mask': 'invalid', \n",
    "                'croppedface_with_mask_incorrect': 'valid' \n",
    "              }"
   ]
  },
  {
   "cell_type": "code",
   "execution_count": 3,
   "metadata": {},
   "outputs": [
    {
     "data": {
      "text/plain": [
       "(                                    filename    usage            type  \\\n",
       " 1948        croppedface_with_mask/132894.png    valid  face_with_mask   \n",
       " 3883       croppedface_with_mask/3553124.png    valid  face_with_mask   \n",
       " 3868       croppedface_with_mask/3532666.png    valid  face_with_mask   \n",
       " 3571       croppedface_with_mask/3154580.png    valid  face_with_mask   \n",
       " 6589  croppedface_other_covering/3135530.jpg  invalid    face_no_mask   \n",
       " ...                                      ...      ...             ...   \n",
       " 6551  croppedface_other_covering/2973732.png  invalid    face_no_mask   \n",
       " 2358       croppedface_with_mask/1733269.png    valid  face_with_mask   \n",
       " 5551        croppedface_with_mask/854799.png    valid  face_with_mask   \n",
       " 973          croppedface_no_mask/4386254.jpg  invalid    face_no_mask   \n",
       " 1429          croppedface_no_mask/496242.jpg  invalid    face_no_mask   \n",
       " \n",
       "                       class  \n",
       " 1948  valid, face_with_mask  \n",
       " 3883  valid, face_with_mask  \n",
       " 3868  valid, face_with_mask  \n",
       " 3571  valid, face_with_mask  \n",
       " 6589  invalid, face_no_mask  \n",
       " ...                     ...  \n",
       " 6551  invalid, face_no_mask  \n",
       " 2358  valid, face_with_mask  \n",
       " 5551  valid, face_with_mask  \n",
       " 973   invalid, face_no_mask  \n",
       " 1429  invalid, face_no_mask  \n",
       " \n",
       " [5808 rows x 4 columns],\n",
       "                                     filename    usage            type  \\\n",
       " 3631        croppedface_with_mask/322685.png    valid  face_with_mask   \n",
       " 4476       croppedface_with_mask/4474696.png    valid  face_with_mask   \n",
       " 6101  croppedface_other_covering/1573791.png  invalid    face_no_mask   \n",
       " 6609    croppedface_other_covering/24095.png  invalid    face_no_mask   \n",
       " 159          croppedface_no_mask/1435975.jpg  invalid    face_no_mask   \n",
       " ...                                      ...      ...             ...   \n",
       " 1238         croppedface_no_mask/6115785.jpg  invalid    face_no_mask   \n",
       " 4196        croppedface_with_mask/403732.png    valid  face_with_mask   \n",
       " 4848        croppedface_with_mask/543390.png    valid  face_with_mask   \n",
       " 1869       croppedface_with_mask/1244082.png    valid  face_with_mask   \n",
       " 3587       croppedface_with_mask/3174262.png    valid  face_with_mask   \n",
       " \n",
       "                       class  \n",
       " 3631  valid, face_with_mask  \n",
       " 4476  valid, face_with_mask  \n",
       " 6101  invalid, face_no_mask  \n",
       " 6609  invalid, face_no_mask  \n",
       " 159   invalid, face_no_mask  \n",
       " ...                     ...  \n",
       " 1238  invalid, face_no_mask  \n",
       " 4196  valid, face_with_mask  \n",
       " 4848  valid, face_with_mask  \n",
       " 1869  valid, face_with_mask  \n",
       " 3587  valid, face_with_mask  \n",
       " \n",
       " [1452 rows x 4 columns])"
      ]
     },
     "execution_count": 3,
     "metadata": {},
     "output_type": "execute_result"
    }
   ],
   "source": [
    "usage_type_pairs = []\n",
    "\n",
    "for subfolder in SUBFOLDERS:\n",
    "    type_label  = TYPE_DIRS[subfolder]\n",
    "    usage_label = subfolder[len('cropped'):]\n",
    "    \n",
    "    if usage_label == 'face_other_covering':\n",
    "        usage_label = 'face_no_mask'\n",
    "    \n",
    "    class_name  = '{}, {}'.format(type_label, usage_label)\n",
    "    usage_type_pairs += [ ('{}/{}'.format(subfolder, path), type_label, usage_label, class_name) for path in os.listdir(IMAGES_DIR + subfolder) ]\n",
    "\n",
    "mask_dataset = pd.DataFrame(usage_type_pairs, columns = ['filename', 'usage', 'type', 'class'])\n",
    "mask_train, mask_test = train_test_split(mask_dataset, test_size = percent_test)\n",
    "\n",
    "mask_train, mask_test"
   ]
  },
  {
   "cell_type": "code",
   "execution_count": 4,
   "metadata": {},
   "outputs": [],
   "source": [
    "train_val_split = percent_val / (1 - percent_test)\n",
    "mask_image_gen  = tf.keras.preprocessing.image.ImageDataGenerator(rescale = 1.0 / 255,\n",
    "                                                                  validation_split = train_val_split)"
   ]
  },
  {
   "cell_type": "code",
   "execution_count": 5,
   "metadata": {},
   "outputs": [
    {
     "name": "stdout",
     "output_type": "stream",
     "text": [
      "Found 5082 validated image filenames belonging to 3 classes.\n",
      "Found 726 validated image filenames belonging to 3 classes.\n",
      "Found 1452 validated image filenames belonging to 3 classes.\n"
     ]
    }
   ],
   "source": [
    "train_ds = mask_image_gen.flow_from_dataframe(mask_train, directory = IMAGES_DIR, x_col = 'filename', y_col = 'class', \n",
    "                                              target_size = IMG_SIZE, subset = \"training\", batch_size  = BATCH_SIZE)\n",
    "\n",
    "val_ds = mask_image_gen.flow_from_dataframe(mask_train, directory = IMAGES_DIR, x_col = 'filename', y_col = 'class', \n",
    "                                            target_size = IMG_SIZE, subset = \"validation\", batch_size= BATCH_SIZE)\n",
    "\n",
    "test_ds = mask_image_gen.flow_from_dataframe(mask_test, directory = IMAGES_DIR, x_col = 'filename', y_col = 'class',\n",
    "                                             target_size = IMG_SIZE, batch_size  = BATCH_SIZE)"
   ]
  },
  {
   "cell_type": "markdown",
   "metadata": {},
   "source": [
    "### Usage and Type classifier"
   ]
  },
  {
   "cell_type": "code",
   "execution_count": 7,
   "metadata": {},
   "outputs": [],
   "source": [
    "cnn_model = tf.keras.models.Sequential([\n",
    "    tf.keras.applications.ResNet50(include_top = False, input_shape = (*IMG_SIZE,3), pooling = 'max'),\n",
    "    tf.keras.layers.Flatten(),\n",
    "    tf.keras.layers.Dense(128, activation = 'relu'),\n",
    "    tf.keras.layers.Dense(3, activation = 'softmax'),\n",
    "])\n",
    "cnn_model.compile(optimizer = 'adam', loss = tf.losses.CategoricalCrossentropy(), metrics=['accuracy'])"
   ]
  },
  {
   "cell_type": "code",
   "execution_count": 9,
   "metadata": {},
   "outputs": [
    {
     "name": "stdout",
     "output_type": "stream",
     "text": [
      "Epoch 1/20\n",
      "159/159 [==============================] - 67s 418ms/step - loss: 0.6790 - accuracy: 0.8062 - val_loss: 1.1486 - val_accuracy: 0.4022\n",
      "Epoch 2/20\n",
      "159/159 [==============================] - 18s 113ms/step - loss: 0.3154 - accuracy: 0.8884 - val_loss: 0.7242 - val_accuracy: 0.6970\n",
      "Epoch 3/20\n",
      "159/159 [==============================] - 18s 113ms/step - loss: 0.2349 - accuracy: 0.9126 - val_loss: 0.8696 - val_accuracy: 0.4022\n",
      "Epoch 4/20\n",
      "159/159 [==============================] - 18s 115ms/step - loss: 0.1963 - accuracy: 0.9301 - val_loss: 0.5845 - val_accuracy: 0.7039\n",
      "Epoch 5/20\n",
      "159/159 [==============================] - 18s 113ms/step - loss: 0.2668 - accuracy: 0.9054 - val_loss: 0.5056 - val_accuracy: 0.7961\n",
      "Epoch 6/20\n",
      "159/159 [==============================] - 18s 113ms/step - loss: 0.2062 - accuracy: 0.9250 - val_loss: 0.2976 - val_accuracy: 0.8912\n",
      "Epoch 7/20\n",
      "159/159 [==============================] - 18s 114ms/step - loss: 0.1228 - accuracy: 0.9524 - val_loss: 0.2920 - val_accuracy: 0.8994\n",
      "Epoch 8/20\n",
      "159/159 [==============================] - 18s 114ms/step - loss: 0.0930 - accuracy: 0.9675 - val_loss: 0.4051 - val_accuracy: 0.8994\n",
      "Epoch 9/20\n",
      "159/159 [==============================] - 18s 114ms/step - loss: 0.1140 - accuracy: 0.9591 - val_loss: 0.6376 - val_accuracy: 0.8499\n",
      "Epoch 10/20\n",
      "159/159 [==============================] - 18s 114ms/step - loss: 0.0992 - accuracy: 0.9662 - val_loss: 0.4330 - val_accuracy: 0.8788\n",
      "Epoch 11/20\n",
      "159/159 [==============================] - 18s 114ms/step - loss: 0.1174 - accuracy: 0.9650 - val_loss: 0.3719 - val_accuracy: 0.8733\n",
      "Epoch 12/20\n",
      "159/159 [==============================] - 18s 115ms/step - loss: 0.0821 - accuracy: 0.9736 - val_loss: 0.4180 - val_accuracy: 0.8926\n",
      "Epoch 13/20\n",
      "159/159 [==============================] - 19s 116ms/step - loss: 0.0907 - accuracy: 0.9679 - val_loss: 0.5248 - val_accuracy: 0.8636\n",
      "Epoch 14/20\n",
      "159/159 [==============================] - 19s 116ms/step - loss: 0.0675 - accuracy: 0.9756 - val_loss: 0.5311 - val_accuracy: 0.8292\n",
      "Epoch 15/20\n",
      "159/159 [==============================] - 18s 116ms/step - loss: 0.1033 - accuracy: 0.9640 - val_loss: 0.4741 - val_accuracy: 0.8388\n",
      "Epoch 16/20\n",
      "159/159 [==============================] - 18s 116ms/step - loss: 0.0731 - accuracy: 0.9746 - val_loss: 0.4588 - val_accuracy: 0.8843\n",
      "Epoch 17/20\n",
      "159/159 [==============================] - 19s 116ms/step - loss: 0.0442 - accuracy: 0.9843 - val_loss: 0.4494 - val_accuracy: 0.8678\n",
      "Epoch 18/20\n",
      "159/159 [==============================] - 19s 117ms/step - loss: 0.0503 - accuracy: 0.9843 - val_loss: 0.4281 - val_accuracy: 0.8843\n",
      "Epoch 19/20\n",
      "159/159 [==============================] - 19s 117ms/step - loss: 0.0382 - accuracy: 0.9862 - val_loss: 0.4080 - val_accuracy: 0.8994\n",
      "Epoch 20/20\n",
      "159/159 [==============================] - 19s 116ms/step - loss: 0.0437 - accuracy: 0.9839 - val_loss: 0.5358 - val_accuracy: 0.8747\n"
     ]
    }
   ],
   "source": [
    "history = cnn_model.fit(train_ds, validation_data = val_ds, epochs = 20)"
   ]
  },
  {
   "cell_type": "code",
   "execution_count": 12,
   "metadata": {},
   "outputs": [
    {
     "name": "stdout",
     "output_type": "stream",
     "text": [
      "46/46 [==============================] - 4s 83ms/step - loss: 0.6476 - accuracy: 0.8698\n"
     ]
    }
   ],
   "source": [
    "results = cnn_model.evaluate(test_ds)"
   ]
  },
  {
   "cell_type": "code",
   "execution_count": 11,
   "metadata": {},
   "outputs": [
    {
     "name": "stdout",
     "output_type": "stream",
     "text": [
      "Test loss:  0.6475803852081299\n",
      "Test acc:  0.8698347210884094\n"
     ]
    }
   ],
   "source": [
    "print('Test loss: ', results[0])\n",
    "print('Test acc: ', results[1])"
   ]
  },
  {
   "cell_type": "code",
   "execution_count": 15,
   "metadata": {},
   "outputs": [
    {
     "data": {
      "image/png": "[encoded data removed]",
      "text/plain": [
       "<Figure size 432x288 with 1 Axes>"
      ]
     },
     "metadata": {
      "needs_background": "light"
     },
     "output_type": "display_data"
    }
   ],
   "source": [
    "plt.plot(history.history['loss'])\n",
    "plt.plot(history.history['val_loss'])\n",
    "plt.title('Loss')\n",
    "plt.xlabel('epoch')\n",
    "plt.ylabel('loss')\n",
    "plt.legend(['train', 'val'])\n",
    "plt.show()"
   ]
  },
  {
   "cell_type": "code",
   "execution_count": 18,
   "metadata": {},
   "outputs": [
    {
     "data": {
      "image/png": "[encoded data removed]",
      "text/plain": [
       "<Figure size 432x288 with 1 Axes>"
      ]
     },
     "metadata": {
      "needs_background": "light"
     },
     "output_type": "display_data"
    }
   ],
   "source": [
    "plt.plot(history.history['accuracy'])\n",
    "plt.plot(history.history['val_accuracy'])\n",
    "plt.title('Accuracy')\n",
    "plt.xlabel('epoch')\n",
    "plt.ylabel('accuracy')\n",
    "plt.legend(['train', 'val'])\n",
    "plt.show()"
   ]
  }
 ],
 "metadata": {
  "interpreter": {
   "hash": "27b062b3dfe9606f0c2128da30d74d9d8143ed6a1aa3be014384e6a51e358474"
  },
  "kernelspec": {
   "display_name": "Python 3 (ipykernel)",
   "language": "python",
   "name": "python3"
  },
  "language_info": {
   "codemirror_mode": {
    "name": "ipython",
    "version": 3
   },
   "file_extension": ".py",
   "mimetype": "text/x-python",
   "name": "python",
   "nbconvert_exporter": "python",
   "pygments_lexer": "ipython3",
   "version": "3.9.12"
  }
 },
 "nbformat": 4,
 "nbformat_minor": 2
}
