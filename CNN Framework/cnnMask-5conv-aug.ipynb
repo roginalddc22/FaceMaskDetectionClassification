{
 "cells": [
  {
   "cell_type": "code",
   "execution_count": 1,
   "metadata": {},
   "outputs": [],
   "source": [
    "import matplotlib.pyplot as plt\n",
    "import numpy as np\n",
    "import os\n",
    "import pandas as pd\n",
    "import random\n",
    "import cv2\n",
    "import tensorflow as tf\n",
    "from sklearn.utils import shuffle\n",
    "from sklearn.model_selection import train_test_split\n",
    "from sklearn.datasets import load_sample_image"
   ]
  },
  {
   "cell_type": "markdown",
   "metadata": {},
   "source": [
    "### Preparing the Dataset"
   ]
  },
  {
   "cell_type": "code",
   "execution_count": 2,
   "metadata": {},
   "outputs": [],
   "source": [
    "BATCH_SIZE = 5\n",
    "NUM_EPOCHS = 15\n",
    "IMG_SIZE   = (128, 128)\n",
    "\n",
    "percent_val = 0.1\n",
    "\n",
    "train = pd.read_csv('../FINAL_DATASET/train_inc_220517_1710.csv')\n",
    "test  = pd.read_csv('../FINAL_DATASET/test_inc_220517_1710.csv')"
   ]
  },
  {
   "cell_type": "code",
   "execution_count": 3,
   "metadata": {},
   "outputs": [],
   "source": [
    "def adjust_image(input_image):\n",
    "    h, w, c      = input_image.shape\n",
    "\n",
    "    brightness = random.choice([1.0, 0.8, 1.2])\n",
    "    contrast   = random.choice([1.0, 0.8, 1.2])\n",
    "    saturation = random.choice([1.0, 0.8, 1.2])\n",
    "\n",
    "    img_proc = cv2.cvtColor(input_image, cv2.COLOR_RGB2HSV)\n",
    "    np.multiply(img_proc, np.array([ 1.0, saturation, 1.0 ], dtype = np.single), out = img_proc)\n",
    "    \n",
    "    img_proc[img_proc > 255] = 255\n",
    "    img_proc[img_proc < 0]   = 0\n",
    "\n",
    "    cv2.cvtColor(img_proc, cv2.COLOR_HSV2RGB, dst = img_proc)\n",
    "    np.multiply(img_proc, brightness, out = img_proc)\n",
    "    np.add(img_proc, ((1-contrast) * 100))\n",
    "\n",
    "    img_proc[img_proc > 255] = 255\n",
    "    img_proc[img_proc < 0]   = 0\n",
    "    \n",
    "    img_proc = img_proc.astype(np.float32) * (1.0 / 255.0)\n",
    "\n",
    "    return img_proc\n",
    "\n",
    "mask_train_gen  = tf.keras.preprocessing.image.ImageDataGenerator(preprocessing_function = adjust_image, validation_split = percent_val)\n",
    "mask_test_gen   = tf.keras.preprocessing.image.ImageDataGenerator(rescale = 1.0 / 255.0)\n"
   ]
  },
  {
   "cell_type": "code",
   "execution_count": 4,
   "metadata": {},
   "outputs": [
    {
     "name": "stdout",
     "output_type": "stream",
     "text": [
      "Found 4382 validated image filenames belonging to 4 classes.\n",
      "Found 486 validated image filenames belonging to 4 classes.\n",
      "Found 2087 validated image filenames belonging to 4 classes.\n"
     ]
    }
   ],
   "source": [
    "train_ds = mask_train_gen.flow_from_dataframe(train, '../FINAL_DATASET/croppedv2', \n",
    "                                              x_col       = 'newFilename', \n",
    "                                              y_col       = 'classname', \n",
    "                                              target_size = IMG_SIZE, \n",
    "                                              subset      = \"training\", \n",
    "                                              batch_size  = BATCH_SIZE)\n",
    "\n",
    "val_ds = mask_train_gen.flow_from_dataframe(train, '../FINAL_DATASET/croppedv2', \n",
    "                                            x_col       = 'newFilename', \n",
    "                                            y_col       = 'classname', \n",
    "                                            target_size = IMG_SIZE, \n",
    "                                            subset      = \"validation\", \n",
    "                                            batch_size  = BATCH_SIZE)\n",
    "\n",
    "test_ds = mask_test_gen.flow_from_dataframe(test, '../FINAL_DATASET/croppedv2', \n",
    "                                            x_col       = 'newFilename', \n",
    "                                            y_col       = 'classname',\n",
    "                                            target_size = IMG_SIZE, \n",
    "                                            batch_size  = BATCH_SIZE)"
   ]
  },
  {
   "cell_type": "markdown",
   "metadata": {},
   "source": [
    "### Usage and Type classifier"
   ]
  },
  {
   "cell_type": "code",
   "execution_count": 5,
   "metadata": {},
   "outputs": [],
   "source": [
    "cnn_model = tf.keras.models.Sequential([\n",
    "    tf.keras.layers.Conv2D(filters=16, kernel_size=5, strides=1, padding='same', activation='relu', name='conv1'),\n",
    "    tf.keras.layers.MaxPool2D(pool_size = (2, 2), padding = 'same', strides=2),\n",
    "    tf.keras.layers.Conv2D(filters=32, kernel_size=5, strides=1, padding='same', activation='relu', name='conv2'),\n",
    "    tf.keras.layers.MaxPool2D(pool_size = (2, 2), padding = 'same', strides=2),\n",
    "    tf.keras.layers.Conv2D(filters=64, kernel_size=5, strides=1, padding='same', activation='relu', name='conv3'),\n",
    "    tf.keras.layers.MaxPool2D(pool_size = (2, 2), padding = 'valid', strides=2),\n",
    "    tf.keras.layers.Conv2D(filters=128, kernel_size=9, strides=1, padding='same', activation='relu', name='conv4'),\n",
    "    tf.keras.layers.Flatten(),\n",
    "    tf.keras.layers.Dense(128, activation = 'relu'),\n",
    "    tf.keras.layers.Dense(train['classname'].nunique(), activation = 'softmax'),\n",
    "])\n",
    "\n",
    "cnn_model.compile(optimizer = 'adam', loss = tf.losses.CategoricalCrossentropy(), metrics=['accuracy'])"
   ]
  },
  {
   "cell_type": "code",
   "execution_count": 6,
   "metadata": {},
   "outputs": [
    {
     "name": "stdout",
     "output_type": "stream",
     "text": [
      "Epoch 1/15\n",
      "877/877 [==============================] - 38s 40ms/step - loss: 0.7142 - accuracy: 0.7168 - val_loss: 0.5353 - val_accuracy: 0.7922\n",
      "Epoch 2/15\n",
      "877/877 [==============================] - 34s 37ms/step - loss: 0.5561 - accuracy: 0.7887 - val_loss: 0.4955 - val_accuracy: 0.8169\n",
      "Epoch 3/15\n",
      "877/877 [==============================] - 33s 36ms/step - loss: 0.5055 - accuracy: 0.8024 - val_loss: 0.5451 - val_accuracy: 0.7675\n",
      "Epoch 4/15\n",
      "877/877 [==============================] - 33s 37ms/step - loss: 0.4761 - accuracy: 0.8122 - val_loss: 0.6003 - val_accuracy: 0.7737\n",
      "Epoch 5/15\n",
      "877/877 [==============================] - 32s 36ms/step - loss: 0.4564 - accuracy: 0.8229 - val_loss: 0.4794 - val_accuracy: 0.8148\n",
      "Epoch 6/15\n",
      "877/877 [==============================] - 34s 37ms/step - loss: 0.3961 - accuracy: 0.8455 - val_loss: 0.4836 - val_accuracy: 0.8374\n",
      "Epoch 7/15\n",
      "877/877 [==============================] - 35s 38ms/step - loss: 0.3505 - accuracy: 0.8626 - val_loss: 0.5837 - val_accuracy: 0.8066\n",
      "Epoch 8/15\n",
      "877/877 [==============================] - 34s 38ms/step - loss: 0.3034 - accuracy: 0.8848 - val_loss: 0.6216 - val_accuracy: 0.8066\n",
      "Epoch 9/15\n",
      "877/877 [==============================] - 33s 36ms/step - loss: 0.2457 - accuracy: 0.9069 - val_loss: 0.7067 - val_accuracy: 0.8189\n",
      "Epoch 10/15\n",
      "877/877 [==============================] - 34s 38ms/step - loss: 0.1943 - accuracy: 0.9267 - val_loss: 0.6900 - val_accuracy: 0.8189\n",
      "Epoch 11/15\n",
      "877/877 [==============================] - 34s 37ms/step - loss: 0.1694 - accuracy: 0.9429 - val_loss: 0.8764 - val_accuracy: 0.7860\n",
      "Epoch 12/15\n",
      "877/877 [==============================] - 33s 36ms/step - loss: 0.1482 - accuracy: 0.9512 - val_loss: 1.0351 - val_accuracy: 0.8086\n",
      "Epoch 13/15\n",
      "877/877 [==============================] - 33s 37ms/step - loss: 0.0987 - accuracy: 0.9690 - val_loss: 1.1905 - val_accuracy: 0.7881\n",
      "Epoch 14/15\n",
      "877/877 [==============================] - 33s 37ms/step - loss: 0.1462 - accuracy: 0.9550 - val_loss: 1.1571 - val_accuracy: 0.7984\n",
      "Epoch 15/15\n",
      "877/877 [==============================] - 38s 42ms/step - loss: 0.0833 - accuracy: 0.9738 - val_loss: 1.5108 - val_accuracy: 0.8025\n"
     ]
    }
   ],
   "source": [
    "history = cnn_model.fit(train_ds, validation_data = val_ds, epochs = NUM_EPOCHS)"
   ]
  },
  {
   "cell_type": "code",
   "execution_count": 7,
   "metadata": {},
   "outputs": [
    {
     "name": "stdout",
     "output_type": "stream",
     "text": [
      "418/418 [==============================] - 28s 7ms/step - loss: 1.5180 - accuracy: 0.8064\n"
     ]
    }
   ],
   "source": [
    "# CNN with same Conv2D and max-pool layers as capsnet\n",
    "results = cnn_model.evaluate(test_ds)"
   ]
  },
  {
   "cell_type": "code",
   "execution_count": 8,
   "metadata": {},
   "outputs": [
    {
     "name": "stdout",
     "output_type": "stream",
     "text": [
      "Test loss:  1.5179684162139893\n",
      "Test acc:  0.8064206838607788\n"
     ]
    }
   ],
   "source": [
    "print('Test loss: ', results[0])\n",
    "print('Test acc: ', results[1])"
   ]
  },
  {
   "cell_type": "code",
   "execution_count": 9,
   "metadata": {},
   "outputs": [
    {
     "name": "stdout",
     "output_type": "stream",
     "text": [
      "Model: \"sequential\"\n",
      "_________________________________________________________________\n",
      " Layer (type)                Output Shape              Param #   \n",
      "=================================================================\n",
      " conv1 (Conv2D)              (None, None, None, 16)    1216      \n",
      "                                                                 \n",
      " max_pooling2d (MaxPooling2D  (None, None, None, 16)   0         \n",
      " )                                                               \n",
      "                                                                 \n",
      " conv2 (Conv2D)              (None, None, None, 32)    12832     \n",
      "                                                                 \n",
      " max_pooling2d_1 (MaxPooling  (None, None, None, 32)   0         \n",
      " 2D)                                                             \n",
      "                                                                 \n",
      " conv3 (Conv2D)              (None, None, None, 64)    51264     \n",
      "                                                                 \n",
      " max_pooling2d_2 (MaxPooling  (None, None, None, 64)   0         \n",
      " 2D)                                                             \n",
      "                                                                 \n",
      " conv4 (Conv2D)              (None, None, None, 128)   663680    \n",
      "                                                                 \n",
      " flatten (Flatten)           (None, None)              0         \n",
      "                                                                 \n",
      " dense (Dense)               (None, 128)               4194432   \n",
      "                                                                 \n",
      " dense_1 (Dense)             (None, 4)                 516       \n",
      "                                                                 \n",
      "=================================================================\n",
      "Total params: 4,923,940\n",
      "Trainable params: 4,923,940\n",
      "Non-trainable params: 0\n",
      "_________________________________________________________________\n"
     ]
    }
   ],
   "source": [
    "cnn_model.summary()"
   ]
  },
  {
   "cell_type": "code",
   "execution_count": 10,
   "metadata": {},
   "outputs": [
    {
     "data": {
      "image/png": "[encoded data removed]",
      "text/plain": [
       "<Figure size 432x288 with 1 Axes>"
      ]
     },
     "metadata": {
      "needs_background": "light"
     },
     "output_type": "display_data"
    }
   ],
   "source": [
    "plt.plot(history.history['loss'])\n",
    "plt.plot(history.history['val_loss'])\n",
    "plt.title('Loss')\n",
    "plt.xlabel('epoch')\n",
    "plt.ylabel('loss')\n",
    "plt.legend(['train', 'val'])\n",
    "plt.show()"
   ]
  },
  {
   "cell_type": "code",
   "execution_count": 11,
   "metadata": {},
   "outputs": [
    {
     "data": {
      "image/png": "[encoded data removed]",
      "text/plain": [
       "<Figure size 432x288 with 1 Axes>"
      ]
     },
     "metadata": {
      "needs_background": "light"
     },
     "output_type": "display_data"
    }
   ],
   "source": [
    "plt.plot(history.history['accuracy'])\n",
    "plt.plot(history.history['val_accuracy'])\n",
    "plt.title('Accuracy')\n",
    "plt.xlabel('epoch')\n",
    "plt.ylabel('accuracy')\n",
    "plt.legend(['train', 'val'])\n",
    "plt.show()"
   ]
  },
  {
   "cell_type": "code",
   "execution_count": null,
   "metadata": {},
   "outputs": [],
   "source": []
  }
 ],
 "metadata": {
  "interpreter": {
   "hash": "27b062b3dfe9606f0c2128da30d74d9d8143ed6a1aa3be014384e6a51e358474"
  },
  "kernelspec": {
   "display_name": "Python 3 (ipykernel)",
   "language": "python",
   "name": "python3"
  },
  "language_info": {
   "codemirror_mode": {
    "name": "ipython",
    "version": 3
   },
   "file_extension": ".py",
   "mimetype": "text/x-python",
   "name": "python",
   "nbconvert_exporter": "python",
   "pygments_lexer": "ipython3",
   "version": "3.9.7"
  }
 },
 "nbformat": 4,
 "nbformat_minor": 2
}
