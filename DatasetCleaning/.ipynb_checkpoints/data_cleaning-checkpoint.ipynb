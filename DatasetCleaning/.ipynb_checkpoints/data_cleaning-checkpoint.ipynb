{
 "cells": [
  {
   "cell_type": "code",
   "execution_count": 28,
   "id": "56356954",
   "metadata": {},
   "outputs": [],
   "source": [
    "import pandas as pd\n",
    "import shutil\n",
    "import os\n",
    "import sys"
   ]
  },
  {
   "cell_type": "code",
   "execution_count": 29,
   "id": "be432c12",
   "metadata": {},
   "outputs": [],
   "source": [
    "df = pd.read_csv(\"train.csv\")"
   ]
  },
  {
   "cell_type": "code",
   "execution_count": 30,
   "id": "500ec1b7",
   "metadata": {},
   "outputs": [
    {
     "data": {
      "text/plain": [
       "<bound method NDFrame.head of            name   x1   x2   y1   y2       classname\n",
       "0      2756.png   69  126  294  392  face_with_mask\n",
       "1      2756.png  505   10  723  283  face_with_mask\n",
       "2      2756.png   75  252  264  390   mask_colorful\n",
       "3      2756.png  521  136  711  277   mask_colorful\n",
       "4      6098.jpg  360   85  728  653    face_no_mask\n",
       "...         ...  ...  ...  ...  ...             ...\n",
       "15407  1894.jpg  437  121  907  644  face_with_mask\n",
       "15408  1894.jpg  557  363  876  636   mask_surgical\n",
       "15409  1894.jpg  411    3  940  325             hat\n",
       "15410  3216.png  126   69  409  463  face_with_mask\n",
       "15411  3216.png  136  289  393  461   mask_colorful\n",
       "\n",
       "[15412 rows x 6 columns]>"
      ]
     },
     "execution_count": 30,
     "metadata": {},
     "output_type": "execute_result"
    }
   ],
   "source": [
    "df.head"
   ]
  },
  {
   "cell_type": "code",
   "execution_count": 31,
   "id": "8f8e1aff",
   "metadata": {},
   "outputs": [],
   "source": [
    "correct_mask = df[df[\"classname\"] == \"face_with_mask\"]"
   ]
  },
  {
   "cell_type": "code",
   "execution_count": 32,
   "id": "e6e7b5a8",
   "metadata": {},
   "outputs": [],
   "source": [
    "correct_mask = correct_mask.drop_duplicates(subset=[\"name\"])"
   ]
  },
  {
   "cell_type": "code",
   "execution_count": 33,
   "id": "605cfe93",
   "metadata": {},
   "outputs": [],
   "source": [
    "correct_mask.drop(['x1', 'x2', 'y1', 'y2'], axis='columns', inplace=True)"
   ]
  },
  {
   "cell_type": "code",
   "execution_count": 37,
   "id": "9995437d",
   "metadata": {},
   "outputs": [
    {
     "data": {
      "text/plain": [
       "<bound method NDFrame.head of            name       classname\n",
       "0      2756.png  face_with_mask\n",
       "7      4591.png  face_with_mask\n",
       "16     4287.png  face_with_mask\n",
       "17     4893.png  face_with_mask\n",
       "19     1987.jpg  face_with_mask\n",
       "...         ...             ...\n",
       "15381  3646.png  face_with_mask\n",
       "15395  4149.png  face_with_mask\n",
       "15399  3389.png  face_with_mask\n",
       "15407  1894.jpg  face_with_mask\n",
       "15410  3216.png  face_with_mask\n",
       "\n",
       "[2622 rows x 2 columns]>"
      ]
     },
     "execution_count": 37,
     "metadata": {},
     "output_type": "execute_result"
    }
   ],
   "source": [
    "correct_mask.head"
   ]
  },
  {
   "cell_type": "code",
   "execution_count": 38,
   "id": "46b1cfa0",
   "metadata": {},
   "outputs": [],
   "source": [
    "nomask = df[df[\"classname\"] == \"face_no_mask\"]"
   ]
  },
  {
   "cell_type": "code",
   "execution_count": 39,
   "id": "c7bc943e",
   "metadata": {},
   "outputs": [],
   "source": [
    "nomask = nomask.drop_duplicates(subset=[\"name\"])"
   ]
  },
  {
   "cell_type": "code",
   "execution_count": 40,
   "id": "69b221a3",
   "metadata": {},
   "outputs": [],
   "source": [
    "nomask.drop(['x1', 'x2', 'y1', 'y2'], axis='columns', inplace=True)"
   ]
  },
  {
   "cell_type": "code",
   "execution_count": 41,
   "id": "6c18c8a6",
   "metadata": {},
   "outputs": [],
   "source": [
    "incorrect_mask = df[df[\"classname\"] == \"face_with_mask_incorrect\"]"
   ]
  },
  {
   "cell_type": "code",
   "execution_count": 42,
   "id": "336b97ce",
   "metadata": {},
   "outputs": [],
   "source": [
    "incorrect_mask = incorrect_mask.drop_duplicates(subset=[\"name\"])"
   ]
  },
  {
   "cell_type": "code",
   "execution_count": 43,
   "id": "e677b780",
   "metadata": {},
   "outputs": [],
   "source": [
    "incorrect_mask.drop(['x1', 'x2', 'y1', 'y2'], axis='columns', inplace=True)"
   ]
  },
  {
   "cell_type": "code",
   "execution_count": 44,
   "id": "36d11d6d",
   "metadata": {},
   "outputs": [
    {
     "data": {
      "text/plain": [
       "<bound method NDFrame.head of            name                 classname\n",
       "5      6427.png  face_with_mask_incorrect\n",
       "45     3939.png  face_with_mask_incorrect\n",
       "110    3793.png  face_with_mask_incorrect\n",
       "304    4662.png  face_with_mask_incorrect\n",
       "563    6418.png  face_with_mask_incorrect\n",
       "...         ...                       ...\n",
       "14489  4143.png  face_with_mask_incorrect\n",
       "14537  1858.jpg  face_with_mask_incorrect\n",
       "14587  3242.png  face_with_mask_incorrect\n",
       "15063  5166.jpg  face_with_mask_incorrect\n",
       "15375  4383.png  face_with_mask_incorrect\n",
       "\n",
       "[131 rows x 2 columns]>"
      ]
     },
     "execution_count": 44,
     "metadata": {},
     "output_type": "execute_result"
    }
   ],
   "source": [
    "incorrect_mask.head"
   ]
  },
  {
   "cell_type": "code",
   "execution_count": 55,
   "id": "6c33289b",
   "metadata": {},
   "outputs": [],
   "source": [
    "# folder directories\n",
    "ImagesDir = r'C:\\Users\\rogin\\Desktop\\DATASET\\D1\\Medical mask\\Medical mask\\Medical Mask\\images'\n",
    "SortedDir= r\"D:\\Mapua Files\\Thesis Main\\FaceMaskDetectionClassification\\DatasetCleaning\\Sorted\"\n",
    "\n",
    "if not os.path.exists(SortedDir):\n",
    "    os.mkdir(SortedDir)\n",
    "    \n",
    "for filename, class_name in correct_mask.values: \n",
    "    if not os.path.exists(SortedDir + (class_name)):\n",
    "        os.mkdir(SortedDir + str(class_name))\n",
    "    src_path = ImagesDir + '/' + filename\n",
    "    dst_path = SortedDir + str(class_name) + '/' + filename\n",
    "    shutil.copy(src_path, dst_path)\n",
    "\n",
    "for filename, class_name in nomask.values: \n",
    "    if not os.path.exists(SortedDir + str(class_name)):\n",
    "        os.mkdir(SortedDir + str(class_name))\n",
    "    src_path = ImagesDir + '/' + filename\n",
    "    dst_path = SortedDir + str(class_name) + '/' + filename\n",
    "    shutil.copy(src_path, dst_path)\n",
    "    \n",
    "for filename, class_name in incorrect_mask.values: \n",
    "    if not os.path.exists(SortedDir + str(class_name)):\n",
    "        os.mkdir(SortedDir + str(class_name))\n",
    "    src_path = ImagesDir + '/' + filename\n",
    "    dst_path = SortedDir + str(class_name) + '/' + filename\n",
    "    shutil.copy(src_path, dst_path)"
   ]
  },
  {
   "cell_type": "code",
   "execution_count": null,
   "id": "d3e58f16",
   "metadata": {},
   "outputs": [],
   "source": []
  }
 ],
 "metadata": {
  "kernelspec": {
   "display_name": "Python 3 (ipykernel)",
   "language": "python",
   "name": "python3"
  },
  "language_info": {
   "codemirror_mode": {
    "name": "ipython",
    "version": 3
   },
   "file_extension": ".py",
   "mimetype": "text/x-python",
   "name": "python",
   "nbconvert_exporter": "python",
   "pygments_lexer": "ipython3",
   "version": "3.10.2"
  }
 },
 "nbformat": 4,
 "nbformat_minor": 5
}
