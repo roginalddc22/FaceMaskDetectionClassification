{
 "cells": [
  {
   "cell_type": "code",
   "execution_count": 1,
   "metadata": {},
   "outputs": [],
   "source": [
    "import matplotlib.pyplot as plt\n",
    "import numpy as np\n",
    "import os\n",
    "import pandas as pd\n",
    "import cv2\n",
    "import tensorflow as tf\n",
    "from sklearn.utils import shuffle\n",
    "from sklearn.model_selection import train_test_split"
   ]
  },
  {
   "cell_type": "markdown",
   "metadata": {},
   "source": [
    "### Preparing the Dataset"
   ]
  },
  {
   "cell_type": "code",
   "execution_count": 2,
   "metadata": {},
   "outputs": [],
   "source": [
    "BATCH_SIZE = 32\n",
    "IMG_SIZE   = (128, 128)\n",
    "\n",
    "percent_train = 0.7\n",
    "percent_val   = 0.1\n",
    "percent_test  = 0.2\n",
    "\n",
    "IMAGES_DIR  = '../DatasetCleaning/'\n",
    "USAGE_DIRS  = [ 'croppedface_no_mask', 'croppedface_with_mask', 'croppedface_with_mask_incorrect' ]\n",
    "TYPE_DIRS   = { 'invalid' : ['croppedface_other_covering', 'croppedface_no_mask'], \n",
    "                'valid'   : ['croppedface_with_mask', 'croppedface_with_mask_incorrect'] }"
   ]
  },
  {
   "cell_type": "code",
   "execution_count": 3,
   "metadata": {},
   "outputs": [
    {
     "name": "stdout",
     "output_type": "stream",
     "text": [
      "usage    1372\n",
      "type        0\n",
      "dtype: int64\n",
      "\n",
      "usage                     type   \n",
      "face_with_mask            valid      4172\n",
      "face_no_mask              invalid    2938\n",
      "face_with_mask_incorrect  valid       150\n",
      "dtype: int64\n",
      "\n"
     ]
    },
    {
     "data": {
      "text/html": [
       "<div>\n",
       "<style scoped>\n",
       "    .dataframe tbody tr th:only-of-type {\n",
       "        vertical-align: middle;\n",
       "    }\n",
       "\n",
       "    .dataframe tbody tr th {\n",
       "        vertical-align: top;\n",
       "    }\n",
       "\n",
       "    .dataframe thead th {\n",
       "        text-align: right;\n",
       "    }\n",
       "</style>\n",
       "<table border=\"1\" class=\"dataframe\">\n",
       "  <thead>\n",
       "    <tr style=\"text-align: right;\">\n",
       "      <th></th>\n",
       "      <th>filename</th>\n",
       "      <th>usage</th>\n",
       "      <th>type</th>\n",
       "      <th>class</th>\n",
       "    </tr>\n",
       "  </thead>\n",
       "  <tbody>\n",
       "    <tr>\n",
       "      <th>5750</th>\n",
       "      <td>croppedface_with_mask/4303915.png</td>\n",
       "      <td>face_with_mask</td>\n",
       "      <td>valid</td>\n",
       "      <td>face_with_mask--valid</td>\n",
       "    </tr>\n",
       "    <tr>\n",
       "      <th>6086</th>\n",
       "      <td>croppedface_with_mask/504808.png</td>\n",
       "      <td>face_with_mask</td>\n",
       "      <td>valid</td>\n",
       "      <td>face_with_mask--valid</td>\n",
       "    </tr>\n",
       "    <tr>\n",
       "      <th>7251</th>\n",
       "      <td>croppedface_with_mask_incorrect/7802018.jpg</td>\n",
       "      <td>face_with_mask_incorrect</td>\n",
       "      <td>valid</td>\n",
       "      <td>face_with_mask_incorrect--valid</td>\n",
       "    </tr>\n",
       "    <tr>\n",
       "      <th>1966</th>\n",
       "      <td>croppedface_no_mask/2946195.jpg</td>\n",
       "      <td>face_no_mask</td>\n",
       "      <td>invalid</td>\n",
       "      <td>face_no_mask--invalid</td>\n",
       "    </tr>\n",
       "    <tr>\n",
       "      <th>5210</th>\n",
       "      <td>croppedface_with_mask/3473811.png</td>\n",
       "      <td>face_with_mask</td>\n",
       "      <td>valid</td>\n",
       "      <td>face_with_mask--valid</td>\n",
       "    </tr>\n",
       "    <tr>\n",
       "      <th>...</th>\n",
       "      <td>...</td>\n",
       "      <td>...</td>\n",
       "      <td>...</td>\n",
       "      <td>...</td>\n",
       "    </tr>\n",
       "    <tr>\n",
       "      <th>4050</th>\n",
       "      <td>croppedface_with_mask/2101986.jpg</td>\n",
       "      <td>face_with_mask</td>\n",
       "      <td>valid</td>\n",
       "      <td>face_with_mask--valid</td>\n",
       "    </tr>\n",
       "    <tr>\n",
       "      <th>1713</th>\n",
       "      <td>croppedface_no_mask/2096313.jpg</td>\n",
       "      <td>face_no_mask</td>\n",
       "      <td>invalid</td>\n",
       "      <td>face_no_mask--invalid</td>\n",
       "    </tr>\n",
       "    <tr>\n",
       "      <th>1758</th>\n",
       "      <td>croppedface_no_mask/2266013.jpg</td>\n",
       "      <td>face_no_mask</td>\n",
       "      <td>invalid</td>\n",
       "      <td>face_no_mask--invalid</td>\n",
       "    </tr>\n",
       "    <tr>\n",
       "      <th>5039</th>\n",
       "      <td>croppedface_with_mask/3244986.png</td>\n",
       "      <td>face_with_mask</td>\n",
       "      <td>valid</td>\n",
       "      <td>face_with_mask--valid</td>\n",
       "    </tr>\n",
       "    <tr>\n",
       "      <th>1322</th>\n",
       "      <td>croppedface_other_covering/9055618.jpg</td>\n",
       "      <td>face_no_mask</td>\n",
       "      <td>invalid</td>\n",
       "      <td>face_no_mask--invalid</td>\n",
       "    </tr>\n",
       "  </tbody>\n",
       "</table>\n",
       "<p>5808 rows × 4 columns</p>\n",
       "</div>"
      ],
      "text/plain": [
       "                                         filename                     usage  \\\n",
       "5750            croppedface_with_mask/4303915.png            face_with_mask   \n",
       "6086             croppedface_with_mask/504808.png            face_with_mask   \n",
       "7251  croppedface_with_mask_incorrect/7802018.jpg  face_with_mask_incorrect   \n",
       "1966              croppedface_no_mask/2946195.jpg              face_no_mask   \n",
       "5210            croppedface_with_mask/3473811.png            face_with_mask   \n",
       "...                                           ...                       ...   \n",
       "4050            croppedface_with_mask/2101986.jpg            face_with_mask   \n",
       "1713              croppedface_no_mask/2096313.jpg              face_no_mask   \n",
       "1758              croppedface_no_mask/2266013.jpg              face_no_mask   \n",
       "5039            croppedface_with_mask/3244986.png            face_with_mask   \n",
       "1322       croppedface_other_covering/9055618.jpg              face_no_mask   \n",
       "\n",
       "         type                            class  \n",
       "5750    valid            face_with_mask--valid  \n",
       "6086    valid            face_with_mask--valid  \n",
       "7251    valid  face_with_mask_incorrect--valid  \n",
       "1966  invalid            face_no_mask--invalid  \n",
       "5210    valid            face_with_mask--valid  \n",
       "...       ...                              ...  \n",
       "4050    valid            face_with_mask--valid  \n",
       "1713  invalid            face_no_mask--invalid  \n",
       "1758  invalid            face_no_mask--invalid  \n",
       "5039    valid            face_with_mask--valid  \n",
       "1322  invalid            face_no_mask--invalid  \n",
       "\n",
       "[5808 rows x 4 columns]"
      ]
     },
     "execution_count": 3,
     "metadata": {},
     "output_type": "execute_result"
    }
   ],
   "source": [
    "img_usage_pairs = []\n",
    "img_type_pairs  = []\n",
    "\n",
    "for dir in USAGE_DIRS:\n",
    "    class_name      = dir[len('cropped') : ]\n",
    "    img_usage_pairs = img_usage_pairs + [ ('{}/{}'.format(dir, x), class_name) for x in os.listdir(IMAGES_DIR + dir)]\n",
    "\n",
    "for class_name, dirs in TYPE_DIRS.items():\n",
    "    for dir in dirs:\n",
    "        img_type_pairs = img_type_pairs + [('{}/{}'.format(dir, x), class_name) for x in os.listdir(IMAGES_DIR + dir)]\n",
    "    \n",
    "\n",
    "mask_usage_df = pd.DataFrame(img_usage_pairs, columns = ['filename', 'usage']).set_index('filename')\n",
    "mask_type_df  = pd.DataFrame(img_type_pairs, columns = ['filename', 'type']).set_index('filename')\n",
    "\n",
    "mask_usage_type_df = mask_usage_df.join(mask_type_df, how = 'right')\n",
    "\n",
    "# Sanity check: This should be equivalent to the number of images in croppedface_other_covering\n",
    "print(mask_usage_type_df.isna().sum())\n",
    "mask_usage_type_df['usage'] = mask_usage_type_df['usage'].fillna('face_no_mask')\n",
    "mask_usage_type_df\n",
    "\n",
    "print()\n",
    "print(mask_usage_type_df.value_counts())\n",
    "print()\n",
    "mask_usage_type_df['class'] = mask_usage_type_df['usage']  + '--' + mask_usage_type_df['type']\n",
    "mask_usage_type_df = shuffle(mask_usage_type_df.reset_index())\n",
    "mask_usage_type_df\n",
    "\n",
    "mask_train, mask_test = train_test_split(mask_usage_type_df, test_size = percent_test)\n",
    "mask_train"
   ]
  },
  {
   "cell_type": "code",
   "execution_count": 4,
   "metadata": {},
   "outputs": [
    {
     "name": "stdout",
     "output_type": "stream",
     "text": [
      "Found 5082 validated image filenames belonging to 3 classes.\n",
      "Found 726 validated image filenames belonging to 3 classes.\n"
     ]
    }
   ],
   "source": [
    "train_val_split = percent_val / (1 - percent_test)\n",
    "mask_image_gen  = tf.keras.preprocessing.image.ImageDataGenerator(rescale = 1.0 / 255, \n",
    "                                                                 validation_split = train_val_split)\n",
    "train_ds       = mask_image_gen.flow_from_dataframe(mask_train, \n",
    "                                                    directory   = IMAGES_DIR,\n",
    "                                                    x_col       = 'filename',\n",
    "                                                    y_col       = 'class',\n",
    "                                                    target_size = IMG_SIZE,\n",
    "                                                    subset      = \"training\",\n",
    "                                                    batch_size  = BATCH_SIZE)\n",
    "val_ds       = mask_image_gen.flow_from_dataframe(mask_train, \n",
    "                                                  directory   = IMAGES_DIR,\n",
    "                                                  x_col       = 'filename',\n",
    "                                                  y_col       = 'class',\n",
    "                                                  target_size = IMG_SIZE,\n",
    "                                                  subset      = \"validation\",\n",
    "                                                  batch_size  = BATCH_SIZE)"
   ]
  },
  {
   "cell_type": "markdown",
   "metadata": {},
   "source": [
    "### Usage and Type classifier"
   ]
  },
  {
   "cell_type": "code",
   "execution_count": 5,
   "metadata": {},
   "outputs": [],
   "source": [
    "cnn_model = tf.keras.models.Sequential([\n",
    "    tf.keras.applications.ResNet50(include_top = False, input_shape = (*IMG_SIZE,3), pooling = 'max'),\n",
    "    tf.keras.layers.Flatten(),\n",
    "    tf.keras.layers.Dense(128, activation = 'relu'),\n",
    "    tf.keras.layers.Dense(3, activation = 'softmax'),\n",
    "])\n",
    "cnn_model.compile(optimizer = 'adam', loss = tf.losses.CategoricalCrossentropy(), metrics=['accuracy'])"
   ]
  },
  {
   "cell_type": "code",
   "execution_count": null,
   "metadata": {},
   "outputs": [],
   "source": [
    "history = cnn_model.fit(train_ds, validation_data = val_ds, epochs=10)"
   ]
  }
 ],
 "metadata": {
  "interpreter": {
   "hash": "27b062b3dfe9606f0c2128da30d74d9d8143ed6a1aa3be014384e6a51e358474"
  },
  "kernelspec": {
   "display_name": "Python 3.9.7 ('base')",
   "language": "python",
   "name": "python3"
  },
  "language_info": {
   "codemirror_mode": {
    "name": "ipython",
    "version": 3
   },
   "file_extension": ".py",
   "mimetype": "text/x-python",
   "name": "python",
   "nbconvert_exporter": "python",
   "pygments_lexer": "ipython3",
   "version": "3.9.7"
  },
  "orig_nbformat": 4
 },
 "nbformat": 4,
 "nbformat_minor": 2
}
