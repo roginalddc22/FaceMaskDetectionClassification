{
 "cells": [
  {
   "cell_type": "code",
   "execution_count": 2,
   "id": "56356954",
   "metadata": {},
   "outputs": [],
   "source": [
    "import pandas as pd\n",
    "import shutil\n",
    "import os\n",
    "import sys"
   ]
  },
  {
   "cell_type": "code",
   "execution_count": 3,
   "id": "be432c12",
   "metadata": {},
   "outputs": [],
   "source": [
    "df = pd.read_csv(\"train.csv\")"
   ]
  },
  {
   "cell_type": "code",
   "execution_count": 4,
   "id": "500ec1b7",
   "metadata": {},
   "outputs": [
    {
     "data": {
      "text/plain": [
       "<bound method NDFrame.head of            name   x1   x2   y1   y2       classname\n",
       "0      2756.png   69  126  294  392  face_with_mask\n",
       "1      2756.png  505   10  723  283  face_with_mask\n",
       "2      2756.png   75  252  264  390   mask_colorful\n",
       "3      2756.png  521  136  711  277   mask_colorful\n",
       "4      6098.jpg  360   85  728  653    face_no_mask\n",
       "...         ...  ...  ...  ...  ...             ...\n",
       "15407  1894.jpg  437  121  907  644  face_with_mask\n",
       "15408  1894.jpg  557  363  876  636   mask_surgical\n",
       "15409  1894.jpg  411    3  940  325             hat\n",
       "15410  3216.png  126   69  409  463  face_with_mask\n",
       "15411  3216.png  136  289  393  461   mask_colorful\n",
       "\n",
       "[15412 rows x 6 columns]>"
      ]
     },
     "execution_count": 4,
     "metadata": {},
     "output_type": "execute_result"
    }
   ],
   "source": [
    "df.head"
   ]
  },
  {
   "cell_type": "code",
   "execution_count": 5,
   "id": "8f8e1aff",
   "metadata": {},
   "outputs": [],
   "source": [
    "correct_mask = df[df[\"classname\"] == \"face_with_mask\"]"
   ]
  },
  {
   "cell_type": "code",
   "execution_count": 6,
   "id": "e6e7b5a8",
   "metadata": {},
   "outputs": [],
   "source": [
    "correct_mask = correct_mask.drop_duplicates(subset=[\"name\"])"
   ]
  },
  {
   "cell_type": "code",
   "execution_count": 7,
   "id": "605cfe93",
   "metadata": {},
   "outputs": [],
   "source": [
    "correct_mask.drop(['x1', 'x2', 'y1', 'y2'], axis='columns', inplace=True)"
   ]
  },
  {
   "cell_type": "code",
   "execution_count": 8,
   "id": "9995437d",
   "metadata": {},
   "outputs": [
    {
     "data": {
      "text/plain": [
       "<bound method NDFrame.head of            name       classname\n",
       "0      2756.png  face_with_mask\n",
       "7      4591.png  face_with_mask\n",
       "16     4287.png  face_with_mask\n",
       "17     4893.png  face_with_mask\n",
       "19     1987.jpg  face_with_mask\n",
       "...         ...             ...\n",
       "15381  3646.png  face_with_mask\n",
       "15395  4149.png  face_with_mask\n",
       "15399  3389.png  face_with_mask\n",
       "15407  1894.jpg  face_with_mask\n",
       "15410  3216.png  face_with_mask\n",
       "\n",
       "[2622 rows x 2 columns]>"
      ]
     },
     "execution_count": 8,
     "metadata": {},
     "output_type": "execute_result"
    }
   ],
   "source": [
    "correct_mask.head"
   ]
  },
  {
   "cell_type": "code",
   "execution_count": 9,
   "id": "46b1cfa0",
   "metadata": {},
   "outputs": [],
   "source": [
    "nomask = df[df[\"classname\"] == \"face_no_mask\"]"
   ]
  },
  {
   "cell_type": "code",
   "execution_count": 10,
   "id": "c7bc943e",
   "metadata": {},
   "outputs": [],
   "source": [
    "nomask = nomask.drop_duplicates(subset=[\"name\"])"
   ]
  },
  {
   "cell_type": "code",
   "execution_count": 11,
   "id": "69b221a3",
   "metadata": {},
   "outputs": [],
   "source": [
    "nomask.drop(['x1', 'x2', 'y1', 'y2'], axis='columns', inplace=True)"
   ]
  },
  {
   "cell_type": "code",
   "execution_count": 12,
   "id": "6c18c8a6",
   "metadata": {},
   "outputs": [],
   "source": [
    "incorrect_mask = df[df[\"classname\"] == \"face_with_mask_incorrect\"]"
   ]
  },
  {
   "cell_type": "code",
   "execution_count": 13,
   "id": "336b97ce",
   "metadata": {},
   "outputs": [],
   "source": [
    "incorrect_mask = incorrect_mask.drop_duplicates(subset=[\"name\"])"
   ]
  },
  {
   "cell_type": "code",
   "execution_count": 14,
   "id": "e677b780",
   "metadata": {},
   "outputs": [],
   "source": [
    "incorrect_mask.drop(['x1', 'x2', 'y1', 'y2'], axis='columns', inplace=True)"
   ]
  },
  {
   "cell_type": "code",
   "execution_count": 15,
   "id": "36d11d6d",
   "metadata": {},
   "outputs": [
    {
     "data": {
      "text/plain": [
       "<bound method NDFrame.head of            name                 classname\n",
       "5      6427.png  face_with_mask_incorrect\n",
       "45     3939.png  face_with_mask_incorrect\n",
       "110    3793.png  face_with_mask_incorrect\n",
       "304    4662.png  face_with_mask_incorrect\n",
       "563    6418.png  face_with_mask_incorrect\n",
       "...         ...                       ...\n",
       "14489  4143.png  face_with_mask_incorrect\n",
       "14537  1858.jpg  face_with_mask_incorrect\n",
       "14587  3242.png  face_with_mask_incorrect\n",
       "15063  5166.jpg  face_with_mask_incorrect\n",
       "15375  4383.png  face_with_mask_incorrect\n",
       "\n",
       "[131 rows x 2 columns]>"
      ]
     },
     "execution_count": 15,
     "metadata": {},
     "output_type": "execute_result"
    }
   ],
   "source": [
    "incorrect_mask.head"
   ]
  },
  {
   "cell_type": "code",
   "execution_count": 55,
   "id": "6c33289b",
   "metadata": {},
   "outputs": [],
   "source": [
    "# folder directories\n",
    "# ImagesDir = r'C:\\Users\\rogin\\Desktop\\DATASET\\D1\\Medical mask\\Medical mask\\Medical Mask\\images'\n",
    "# SortedDir= r\"D:\\Mapua Files\\Thesis Main\\FaceMaskDetectionClassification\\DatasetCleaning\\Sorted\"\n",
    "\n",
    "# if not os.path.exists(SortedDir):\n",
    "#     os.mkdir(SortedDir)\n",
    "    \n",
    "# for filename, class_name in correct_mask.values: \n",
    "#     if not os.path.exists(SortedDir + (class_name)):\n",
    "#         os.mkdir(SortedDir + str(class_name))\n",
    "#     src_path = ImagesDir + '/' + filename\n",
    "#     dst_path = SortedDir + str(class_name) + '/' + filename\n",
    "#     shutil.copy(src_path, dst_path)\n",
    "\n",
    "# for filename, class_name in nomask.values: \n",
    "#     if not os.path.exists(SortedDir + str(class_name)):\n",
    "#         os.mkdir(SortedDir + str(class_name))\n",
    "#     src_path = ImagesDir + '/' + filename\n",
    "#     dst_path = SortedDir + str(class_name) + '/' + filename\n",
    "#     shutil.copy(src_path, dst_path)\n",
    "    \n",
    "# for filename, class_name in incorrect_mask.values: \n",
    "#     if not os.path.exists(SortedDir + str(class_name)):\n",
    "#         os.mkdir(SortedDir + str(class_name))\n",
    "#     src_path = ImagesDir + '/' + filename\n",
    "#     dst_path = SortedDir + str(class_name) + '/' + filename\n",
    "#     shutil.copy(src_path, dst_path)"
   ]
  },
  {
   "cell_type": "code",
   "execution_count": 16,
   "id": "d3e58f16",
   "metadata": {},
   "outputs": [
    {
     "data": {
      "text/plain": [
       "array(['face_with_mask', 'mask_colorful', 'face_no_mask',\n",
       "       'face_with_mask_incorrect', 'mask_surgical', 'face_other_covering',\n",
       "       'scarf_bandana', 'eyeglasses', 'helmet', 'face_shield',\n",
       "       'sunglasses', 'hood', 'hat', 'goggles', 'hair_net', 'hijab_niqab',\n",
       "       'other', 'gas_mask', 'balaclava_ski_mask', 'turban'], dtype=object)"
      ]
     },
     "execution_count": 16,
     "metadata": {},
     "output_type": "execute_result"
    }
   ],
   "source": [
    "df.classname.unique()"
   ]
  },
  {
   "cell_type": "code",
   "execution_count": 17,
   "id": "e4bd2070",
   "metadata": {},
   "outputs": [
    {
     "data": {
      "text/html": [
       "<div>\n",
       "<style scoped>\n",
       "    .dataframe tbody tr th:only-of-type {\n",
       "        vertical-align: middle;\n",
       "    }\n",
       "\n",
       "    .dataframe tbody tr th {\n",
       "        vertical-align: top;\n",
       "    }\n",
       "\n",
       "    .dataframe thead th {\n",
       "        text-align: right;\n",
       "    }\n",
       "</style>\n",
       "<table border=\"1\" class=\"dataframe\">\n",
       "  <thead>\n",
       "    <tr style=\"text-align: right;\">\n",
       "      <th></th>\n",
       "      <th>name</th>\n",
       "      <th>x1</th>\n",
       "      <th>x2</th>\n",
       "      <th>y1</th>\n",
       "      <th>y2</th>\n",
       "      <th>classname</th>\n",
       "    </tr>\n",
       "  </thead>\n",
       "  <tbody>\n",
       "    <tr>\n",
       "      <th>0</th>\n",
       "      <td>2756.png</td>\n",
       "      <td>69</td>\n",
       "      <td>126</td>\n",
       "      <td>294</td>\n",
       "      <td>392</td>\n",
       "      <td>face_with_mask</td>\n",
       "    </tr>\n",
       "    <tr>\n",
       "      <th>1</th>\n",
       "      <td>2756.png</td>\n",
       "      <td>505</td>\n",
       "      <td>10</td>\n",
       "      <td>723</td>\n",
       "      <td>283</td>\n",
       "      <td>face_with_mask</td>\n",
       "    </tr>\n",
       "    <tr>\n",
       "      <th>4</th>\n",
       "      <td>6098.jpg</td>\n",
       "      <td>360</td>\n",
       "      <td>85</td>\n",
       "      <td>728</td>\n",
       "      <td>653</td>\n",
       "      <td>face_no_mask</td>\n",
       "    </tr>\n",
       "    <tr>\n",
       "      <th>5</th>\n",
       "      <td>6427.png</td>\n",
       "      <td>218</td>\n",
       "      <td>98</td>\n",
       "      <td>577</td>\n",
       "      <td>580</td>\n",
       "      <td>face_with_mask_incorrect</td>\n",
       "    </tr>\n",
       "    <tr>\n",
       "      <th>7</th>\n",
       "      <td>4591.png</td>\n",
       "      <td>239</td>\n",
       "      <td>9</td>\n",
       "      <td>522</td>\n",
       "      <td>342</td>\n",
       "      <td>face_with_mask</td>\n",
       "    </tr>\n",
       "    <tr>\n",
       "      <th>...</th>\n",
       "      <td>...</td>\n",
       "      <td>...</td>\n",
       "      <td>...</td>\n",
       "      <td>...</td>\n",
       "      <td>...</td>\n",
       "      <td>...</td>\n",
       "    </tr>\n",
       "    <tr>\n",
       "      <th>15402</th>\n",
       "      <td>4883.png</td>\n",
       "      <td>236</td>\n",
       "      <td>22</td>\n",
       "      <td>497</td>\n",
       "      <td>343</td>\n",
       "      <td>face_other_covering</td>\n",
       "    </tr>\n",
       "    <tr>\n",
       "      <th>15404</th>\n",
       "      <td>2460.png</td>\n",
       "      <td>261</td>\n",
       "      <td>36</td>\n",
       "      <td>417</td>\n",
       "      <td>239</td>\n",
       "      <td>face_other_covering</td>\n",
       "    </tr>\n",
       "    <tr>\n",
       "      <th>15405</th>\n",
       "      <td>2460.png</td>\n",
       "      <td>650</td>\n",
       "      <td>5</td>\n",
       "      <td>805</td>\n",
       "      <td>184</td>\n",
       "      <td>face_no_mask</td>\n",
       "    </tr>\n",
       "    <tr>\n",
       "      <th>15407</th>\n",
       "      <td>1894.jpg</td>\n",
       "      <td>437</td>\n",
       "      <td>121</td>\n",
       "      <td>907</td>\n",
       "      <td>644</td>\n",
       "      <td>face_with_mask</td>\n",
       "    </tr>\n",
       "    <tr>\n",
       "      <th>15410</th>\n",
       "      <td>3216.png</td>\n",
       "      <td>126</td>\n",
       "      <td>69</td>\n",
       "      <td>409</td>\n",
       "      <td>463</td>\n",
       "      <td>face_with_mask</td>\n",
       "    </tr>\n",
       "  </tbody>\n",
       "</table>\n",
       "<p>7271 rows × 6 columns</p>\n",
       "</div>"
      ],
      "text/plain": [
       "           name   x1   x2   y1   y2                 classname\n",
       "0      2756.png   69  126  294  392            face_with_mask\n",
       "1      2756.png  505   10  723  283            face_with_mask\n",
       "4      6098.jpg  360   85  728  653              face_no_mask\n",
       "5      6427.png  218   98  577  580  face_with_mask_incorrect\n",
       "7      4591.png  239    9  522  342            face_with_mask\n",
       "...         ...  ...  ...  ...  ...                       ...\n",
       "15402  4883.png  236   22  497  343       face_other_covering\n",
       "15404  2460.png  261   36  417  239       face_other_covering\n",
       "15405  2460.png  650    5  805  184              face_no_mask\n",
       "15407  1894.jpg  437  121  907  644            face_with_mask\n",
       "15410  3216.png  126   69  409  463            face_with_mask\n",
       "\n",
       "[7271 rows x 6 columns]"
      ]
     },
     "execution_count": 17,
     "metadata": {},
     "output_type": "execute_result"
    }
   ],
   "source": [
    "accepted_classes = ['face_with_mask', 'face_no_mask',\n",
    "       'face_with_mask_incorrect', 'face_other_covering']\n",
    "\n",
    "classes_df = df[df[\"classname\"].isin(accepted_classes)]"
   ]
  },
  {
   "cell_type": "code",
   "execution_count": 20,
   "id": "16eb40b0",
   "metadata": {},
   "outputs": [],
   "source": [
    "class_bool = pd.get_dummies(classes_df[\"classname\"])"
   ]
  },
  {
   "cell_type": "code",
   "execution_count": 21,
   "id": "08a9b5bf",
   "metadata": {},
   "outputs": [],
   "source": [
    "final_class = classes_df.join(class_bool[[\"face_no_mask\", \"face_other_covering\", \"face_with_mask\", \"face_with_mask_incorrect\"]])"
   ]
  },
  {
   "cell_type": "code",
   "execution_count": 22,
   "id": "e3bbc5f9",
   "metadata": {},
   "outputs": [
    {
     "data": {
      "text/html": [
       "<div>\n",
       "<style scoped>\n",
       "    .dataframe tbody tr th:only-of-type {\n",
       "        vertical-align: middle;\n",
       "    }\n",
       "\n",
       "    .dataframe tbody tr th {\n",
       "        vertical-align: top;\n",
       "    }\n",
       "\n",
       "    .dataframe thead th {\n",
       "        text-align: right;\n",
       "    }\n",
       "</style>\n",
       "<table border=\"1\" class=\"dataframe\">\n",
       "  <thead>\n",
       "    <tr style=\"text-align: right;\">\n",
       "      <th></th>\n",
       "      <th>name</th>\n",
       "      <th>x1</th>\n",
       "      <th>x2</th>\n",
       "      <th>y1</th>\n",
       "      <th>y2</th>\n",
       "      <th>classname</th>\n",
       "      <th>face_no_mask</th>\n",
       "      <th>face_other_covering</th>\n",
       "      <th>face_with_mask</th>\n",
       "      <th>face_with_mask_incorrect</th>\n",
       "    </tr>\n",
       "  </thead>\n",
       "  <tbody>\n",
       "    <tr>\n",
       "      <th>0</th>\n",
       "      <td>2756.png</td>\n",
       "      <td>69</td>\n",
       "      <td>126</td>\n",
       "      <td>294</td>\n",
       "      <td>392</td>\n",
       "      <td>face_with_mask</td>\n",
       "      <td>0</td>\n",
       "      <td>0</td>\n",
       "      <td>1</td>\n",
       "      <td>0</td>\n",
       "    </tr>\n",
       "    <tr>\n",
       "      <th>1</th>\n",
       "      <td>2756.png</td>\n",
       "      <td>505</td>\n",
       "      <td>10</td>\n",
       "      <td>723</td>\n",
       "      <td>283</td>\n",
       "      <td>face_with_mask</td>\n",
       "      <td>0</td>\n",
       "      <td>0</td>\n",
       "      <td>1</td>\n",
       "      <td>0</td>\n",
       "    </tr>\n",
       "    <tr>\n",
       "      <th>4</th>\n",
       "      <td>6098.jpg</td>\n",
       "      <td>360</td>\n",
       "      <td>85</td>\n",
       "      <td>728</td>\n",
       "      <td>653</td>\n",
       "      <td>face_no_mask</td>\n",
       "      <td>1</td>\n",
       "      <td>0</td>\n",
       "      <td>0</td>\n",
       "      <td>0</td>\n",
       "    </tr>\n",
       "    <tr>\n",
       "      <th>5</th>\n",
       "      <td>6427.png</td>\n",
       "      <td>218</td>\n",
       "      <td>98</td>\n",
       "      <td>577</td>\n",
       "      <td>580</td>\n",
       "      <td>face_with_mask_incorrect</td>\n",
       "      <td>0</td>\n",
       "      <td>0</td>\n",
       "      <td>0</td>\n",
       "      <td>1</td>\n",
       "    </tr>\n",
       "    <tr>\n",
       "      <th>7</th>\n",
       "      <td>4591.png</td>\n",
       "      <td>239</td>\n",
       "      <td>9</td>\n",
       "      <td>522</td>\n",
       "      <td>342</td>\n",
       "      <td>face_with_mask</td>\n",
       "      <td>0</td>\n",
       "      <td>0</td>\n",
       "      <td>1</td>\n",
       "      <td>0</td>\n",
       "    </tr>\n",
       "    <tr>\n",
       "      <th>...</th>\n",
       "      <td>...</td>\n",
       "      <td>...</td>\n",
       "      <td>...</td>\n",
       "      <td>...</td>\n",
       "      <td>...</td>\n",
       "      <td>...</td>\n",
       "      <td>...</td>\n",
       "      <td>...</td>\n",
       "      <td>...</td>\n",
       "      <td>...</td>\n",
       "    </tr>\n",
       "    <tr>\n",
       "      <th>15402</th>\n",
       "      <td>4883.png</td>\n",
       "      <td>236</td>\n",
       "      <td>22</td>\n",
       "      <td>497</td>\n",
       "      <td>343</td>\n",
       "      <td>face_other_covering</td>\n",
       "      <td>0</td>\n",
       "      <td>1</td>\n",
       "      <td>0</td>\n",
       "      <td>0</td>\n",
       "    </tr>\n",
       "    <tr>\n",
       "      <th>15404</th>\n",
       "      <td>2460.png</td>\n",
       "      <td>261</td>\n",
       "      <td>36</td>\n",
       "      <td>417</td>\n",
       "      <td>239</td>\n",
       "      <td>face_other_covering</td>\n",
       "      <td>0</td>\n",
       "      <td>1</td>\n",
       "      <td>0</td>\n",
       "      <td>0</td>\n",
       "    </tr>\n",
       "    <tr>\n",
       "      <th>15405</th>\n",
       "      <td>2460.png</td>\n",
       "      <td>650</td>\n",
       "      <td>5</td>\n",
       "      <td>805</td>\n",
       "      <td>184</td>\n",
       "      <td>face_no_mask</td>\n",
       "      <td>1</td>\n",
       "      <td>0</td>\n",
       "      <td>0</td>\n",
       "      <td>0</td>\n",
       "    </tr>\n",
       "    <tr>\n",
       "      <th>15407</th>\n",
       "      <td>1894.jpg</td>\n",
       "      <td>437</td>\n",
       "      <td>121</td>\n",
       "      <td>907</td>\n",
       "      <td>644</td>\n",
       "      <td>face_with_mask</td>\n",
       "      <td>0</td>\n",
       "      <td>0</td>\n",
       "      <td>1</td>\n",
       "      <td>0</td>\n",
       "    </tr>\n",
       "    <tr>\n",
       "      <th>15410</th>\n",
       "      <td>3216.png</td>\n",
       "      <td>126</td>\n",
       "      <td>69</td>\n",
       "      <td>409</td>\n",
       "      <td>463</td>\n",
       "      <td>face_with_mask</td>\n",
       "      <td>0</td>\n",
       "      <td>0</td>\n",
       "      <td>1</td>\n",
       "      <td>0</td>\n",
       "    </tr>\n",
       "  </tbody>\n",
       "</table>\n",
       "<p>7271 rows × 10 columns</p>\n",
       "</div>"
      ],
      "text/plain": [
       "           name   x1   x2   y1   y2                 classname  face_no_mask  \\\n",
       "0      2756.png   69  126  294  392            face_with_mask             0   \n",
       "1      2756.png  505   10  723  283            face_with_mask             0   \n",
       "4      6098.jpg  360   85  728  653              face_no_mask             1   \n",
       "5      6427.png  218   98  577  580  face_with_mask_incorrect             0   \n",
       "7      4591.png  239    9  522  342            face_with_mask             0   \n",
       "...         ...  ...  ...  ...  ...                       ...           ...   \n",
       "15402  4883.png  236   22  497  343       face_other_covering             0   \n",
       "15404  2460.png  261   36  417  239       face_other_covering             0   \n",
       "15405  2460.png  650    5  805  184              face_no_mask             1   \n",
       "15407  1894.jpg  437  121  907  644            face_with_mask             0   \n",
       "15410  3216.png  126   69  409  463            face_with_mask             0   \n",
       "\n",
       "       face_other_covering  face_with_mask  face_with_mask_incorrect  \n",
       "0                        0               1                         0  \n",
       "1                        0               1                         0  \n",
       "4                        0               0                         0  \n",
       "5                        0               0                         1  \n",
       "7                        0               1                         0  \n",
       "...                    ...             ...                       ...  \n",
       "15402                    1               0                         0  \n",
       "15404                    1               0                         0  \n",
       "15405                    0               0                         0  \n",
       "15407                    0               1                         0  \n",
       "15410                    0               1                         0  \n",
       "\n",
       "[7271 rows x 10 columns]"
      ]
     },
     "execution_count": 22,
     "metadata": {},
     "output_type": "execute_result"
    }
   ],
   "source": [
    "final_class"
   ]
  },
  {
   "cell_type": "code",
   "execution_count": null,
   "id": "2272fb86",
   "metadata": {},
   "outputs": [],
   "source": []
  }
 ],
 "metadata": {
  "kernelspec": {
   "display_name": "Python 3 (ipykernel)",
   "language": "python",
   "name": "python3"
  },
  "language_info": {
   "codemirror_mode": {
    "name": "ipython",
    "version": 3
   },
   "file_extension": ".py",
   "mimetype": "text/x-python",
   "name": "python",
   "nbconvert_exporter": "python",
   "pygments_lexer": "ipython3",
   "version": "3.9.7"
  }
 },
 "nbformat": 4,
 "nbformat_minor": 5
}
