{
 "cells": [
  {
   "cell_type": "code",
   "execution_count": 1,
   "metadata": {},
   "outputs": [],
   "source": [
    "import matplotlib.pyplot as plt\n",
    "import numpy as np\n",
    "import os\n",
    "import pandas as pd\n",
    "import random\n",
    "import cv2\n",
    "import tensorflow as tf\n",
    "from sklearn.utils import shuffle\n",
    "from sklearn.model_selection import train_test_split\n",
    "from sklearn.datasets import load_sample_image"
   ]
  },
  {
   "cell_type": "markdown",
   "metadata": {},
   "source": [
    "### Preparing the Dataset"
   ]
  },
  {
   "cell_type": "code",
   "execution_count": 2,
   "metadata": {},
   "outputs": [],
   "source": [
    "BATCH_SIZE = 5\n",
    "NUM_EPOCHS = 15\n",
    "IMG_SIZE   = (128, 128)\n",
    "\n",
    "percent_val = 0.1\n",
    "\n",
    "train = pd.read_csv('../FINAL_DATASET/traindf.csv')\n",
    "test  = pd.read_csv('../FINAL_DATASET/test.csv')"
   ]
  },
  {
   "cell_type": "code",
   "execution_count": 3,
   "metadata": {},
   "outputs": [],
   "source": [
    "def adjust_image(input_image):\n",
    "    h, w, c      = input_image.shape\n",
    "\n",
    "    brightness = random.choice([1.0, 0.8, 1.2])\n",
    "    contrast   = random.choice([1.0, 0.8, 1.2])\n",
    "    saturation = random.choice([1.0, 0.8, 1.2])\n",
    "\n",
    "    img_proc = cv2.cvtColor(input_image, cv2.COLOR_RGB2HSV)\n",
    "    np.multiply(img_proc, np.array([ 1.0, saturation, 1.0 ], dtype = np.single), out = img_proc)\n",
    "    \n",
    "    img_proc[img_proc > 255] = 255\n",
    "    img_proc[img_proc < 0]   = 0\n",
    "\n",
    "    cv2.cvtColor(img_proc, cv2.COLOR_HSV2RGB, dst = img_proc)\n",
    "    np.multiply(img_proc, brightness, out = img_proc)\n",
    "    np.add(img_proc, ((1-contrast) * 100))\n",
    "\n",
    "    img_proc[img_proc > 255] = 255\n",
    "    img_proc[img_proc < 0]   = 0\n",
    "    \n",
    "    img_proc = img_proc.astype(np.float32) * (1.0 / 255.0)\n",
    "\n",
    "    return img_proc\n",
    "\n",
    "mask_train_gen  = tf.keras.preprocessing.image.ImageDataGenerator(preprocessing_function = adjust_image, validation_split = percent_val)\n",
    "mask_test_gen   = tf.keras.preprocessing.image.ImageDataGenerator(rescale = 1.0 / 255.0)\n"
   ]
  },
  {
   "cell_type": "code",
   "execution_count": 4,
   "metadata": {},
   "outputs": [
    {
     "name": "stdout",
     "output_type": "stream",
     "text": [
      "Found 3195 validated image filenames belonging to 4 classes.\n",
      "Found 355 validated image filenames belonging to 4 classes.\n",
      "Found 1522 validated image filenames belonging to 4 classes.\n"
     ]
    }
   ],
   "source": [
    "train_ds = mask_train_gen.flow_from_dataframe(train, '../FINAL_DATASET/croppedv2', \n",
    "                                              x_col       = 'newFilename', \n",
    "                                              y_col       = 'classname', \n",
    "                                              target_size = IMG_SIZE, \n",
    "                                              subset      = \"training\", \n",
    "                                              batch_size  = BATCH_SIZE)\n",
    "\n",
    "val_ds = mask_train_gen.flow_from_dataframe(train, '../FINAL_DATASET/croppedv2', \n",
    "                                            x_col       = 'newFilename', \n",
    "                                            y_col       = 'classname', \n",
    "                                            target_size = IMG_SIZE, \n",
    "                                            subset      = \"validation\", \n",
    "                                            batch_size  = BATCH_SIZE)\n",
    "\n",
    "test_ds = mask_test_gen.flow_from_dataframe(test, '../FINAL_DATASET/croppedv2', \n",
    "                                            x_col       = 'newFilename', \n",
    "                                            y_col       = 'classname',\n",
    "                                            target_size = IMG_SIZE, \n",
    "                                            batch_size  = BATCH_SIZE)"
   ]
  },
  {
   "cell_type": "markdown",
   "metadata": {},
   "source": [
    "### Usage and Type classifier"
   ]
  },
  {
   "cell_type": "code",
   "execution_count": null,
   "metadata": {},
   "outputs": [
    {
     "name": "stdout",
     "output_type": "stream",
     "text": [
      "Downloading data from https://storage.googleapis.com/tensorflow/keras-applications/resnet/resnet50_weights_tf_dim_ordering_tf_kernels_notop.h5\n",
      "85966848/94765736 [==========================>...] - ETA: 2s"
     ]
    }
   ],
   "source": [
    "cnn_model = tf.keras.models.Sequential([\n",
    "    tf.keras.applications.ResNet50(include_top = False, input_shape = (*IMG_SIZE,3), pooling = 'max'),\n",
    "    tf.keras.layers.Flatten(),\n",
    "    tf.keras.layers.Dense(128, activation = 'relu'),\n",
    "    tf.keras.layers.Dense(train['classname'].nunique(), activation = 'softmax'),\n",
    "])\n",
    "\n",
    "cnn_model.compile(optimizer = 'adam', loss = tf.losses.CategoricalCrossentropy(), metrics=['accuracy'])"
   ]
  },
  {
   "cell_type": "code",
   "execution_count": 6,
   "metadata": {},
   "outputs": [
    {
     "name": "stdout",
     "output_type": "stream",
     "text": [
      "Epoch 1/15\n",
      "639/639 [==============================] - 52s 68ms/step - loss: 1.4804 - accuracy: 0.5878 - val_loss: 1.1489 - val_accuracy: 0.5634\n",
      "Epoch 2/15\n",
      "639/639 [==============================] - 36s 56ms/step - loss: 0.9130 - accuracy: 0.6648 - val_loss: 1.3677 - val_accuracy: 0.5944\n",
      "Epoch 3/15\n",
      "639/639 [==============================] - 38s 59ms/step - loss: 0.9477 - accuracy: 0.6532 - val_loss: 0.8939 - val_accuracy: 0.6479\n",
      "Epoch 4/15\n",
      "639/639 [==============================] - 48s 75ms/step - loss: 0.8163 - accuracy: 0.7077 - val_loss: 0.8333 - val_accuracy: 0.6873\n",
      "Epoch 5/15\n",
      "639/639 [==============================] - 46s 72ms/step - loss: 0.8096 - accuracy: 0.6911 - val_loss: 1.0481 - val_accuracy: 0.6141\n",
      "Epoch 6/15\n",
      "639/639 [==============================] - 44s 69ms/step - loss: 0.8661 - accuracy: 0.6695 - val_loss: 0.8571 - val_accuracy: 0.6310\n",
      "Epoch 7/15\n",
      "639/639 [==============================] - 48s 74ms/step - loss: 0.8299 - accuracy: 0.6751 - val_loss: 1.0316 - val_accuracy: 0.6113\n",
      "Epoch 8/15\n",
      "639/639 [==============================] - 44s 69ms/step - loss: 0.7921 - accuracy: 0.6980 - val_loss: 0.9324 - val_accuracy: 0.6451\n",
      "Epoch 9/15\n",
      "639/639 [==============================] - 44s 68ms/step - loss: 0.7751 - accuracy: 0.6942 - val_loss: 0.7539 - val_accuracy: 0.6958\n",
      "Epoch 10/15\n",
      "639/639 [==============================] - 86s 134ms/step - loss: 0.8042 - accuracy: 0.6710 - val_loss: 0.9094 - val_accuracy: 0.6451\n",
      "Epoch 11/15\n",
      "639/639 [==============================] - 109s 171ms/step - loss: 0.8288 - accuracy: 0.6776 - val_loss: 0.7711 - val_accuracy: 0.7099\n",
      "Epoch 12/15\n",
      "639/639 [==============================] - 109s 170ms/step - loss: 0.7732 - accuracy: 0.6983 - val_loss: 0.7631 - val_accuracy: 0.6789\n",
      "Epoch 13/15\n",
      "639/639 [==============================] - 114s 178ms/step - loss: 0.7847 - accuracy: 0.6808 - val_loss: 0.9177 - val_accuracy: 0.6507\n",
      "Epoch 14/15\n",
      "639/639 [==============================] - 114s 177ms/step - loss: 0.7641 - accuracy: 0.7233 - val_loss: 0.9064 - val_accuracy: 0.6704\n",
      "Epoch 15/15\n",
      "639/639 [==============================] - 118s 185ms/step - loss: 0.7648 - accuracy: 0.7330 - val_loss: 0.7246 - val_accuracy: 0.7296\n"
     ]
    }
   ],
   "source": [
    "history = cnn_model.fit(train_ds, validation_data = val_ds, epochs = NUM_EPOCHS)"
   ]
  },
  {
   "cell_type": "code",
   "execution_count": 7,
   "metadata": {},
   "outputs": [
    {
     "name": "stdout",
     "output_type": "stream",
     "text": [
      "305/305 [==============================] - 18s 60ms/step - loss: 0.7079 - accuracy: 0.7385\n"
     ]
    }
   ],
   "source": [
    "# CNN with resnet-50\n",
    "results = cnn_model.evaluate(test_ds)"
   ]
  },
  {
   "cell_type": "code",
   "execution_count": 8,
   "metadata": {},
   "outputs": [
    {
     "name": "stdout",
     "output_type": "stream",
     "text": [
      "Test loss:  0.7078831195831299\n",
      "Test acc:  0.7385019659996033\n"
     ]
    }
   ],
   "source": [
    "print('Test loss: ', results[0])\n",
    "print('Test acc: ', results[1])"
   ]
  },
  {
   "cell_type": "code",
   "execution_count": 9,
   "metadata": {},
   "outputs": [
    {
     "name": "stdout",
     "output_type": "stream",
     "text": [
      "Model: \"sequential\"\n",
      "_________________________________________________________________\n",
      " Layer (type)                Output Shape              Param #   \n",
      "=================================================================\n",
      " resnet50 (Functional)       (None, 2048)              23587712  \n",
      "                                                                 \n",
      " flatten (Flatten)           (None, 2048)              0         \n",
      "                                                                 \n",
      " dense (Dense)               (None, 128)               262272    \n",
      "                                                                 \n",
      " dense_1 (Dense)             (None, 4)                 516       \n",
      "                                                                 \n",
      "=================================================================\n",
      "Total params: 23,850,500\n",
      "Trainable params: 23,797,380\n",
      "Non-trainable params: 53,120\n",
      "_________________________________________________________________\n"
     ]
    }
   ],
   "source": [
    "cnn_model.summary()"
   ]
  },
  {
   "cell_type": "code",
   "execution_count": 10,
   "metadata": {},
   "outputs": [
    {
     "data": {
      "image/png": "[encoded data removed]",
      "text/plain": [
       "<Figure size 432x288 with 1 Axes>"
      ]
     },
     "metadata": {
      "needs_background": "light"
     },
     "output_type": "display_data"
    }
   ],
   "source": [
    "plt.plot(history.history['loss'])\n",
    "plt.plot(history.history['val_loss'])\n",
    "plt.title('Loss')\n",
    "plt.xlabel('epoch')\n",
    "plt.ylabel('loss')\n",
    "plt.legend(['train', 'val'])\n",
    "plt.show()"
   ]
  },
  {
   "cell_type": "code",
   "execution_count": 11,
   "metadata": {},
   "outputs": [
    {
     "data": {
      "image/png": "[encoded data removed]",
      "text/plain": [
       "<Figure size 432x288 with 1 Axes>"
      ]
     },
     "metadata": {
      "needs_background": "light"
     },
     "output_type": "display_data"
    }
   ],
   "source": [
    "plt.plot(history.history['accuracy'])\n",
    "plt.plot(history.history['val_accuracy'])\n",
    "plt.title('Accuracy')\n",
    "plt.xlabel('epoch')\n",
    "plt.ylabel('accuracy')\n",
    "plt.legend(['train', 'val'])\n",
    "plt.show()"
   ]
  }
 ],
 "metadata": {
  "interpreter": {
   "hash": "27b062b3dfe9606f0c2128da30d74d9d8143ed6a1aa3be014384e6a51e358474"
  },
  "kernelspec": {
   "display_name": "Python 3 (ipykernel)",
   "language": "python",
   "name": "python3"
  },
  "language_info": {
   "codemirror_mode": {
    "name": "ipython",
    "version": 3
   },
   "file_extension": ".py",
   "mimetype": "text/x-python",
   "name": "python",
   "nbconvert_exporter": "python",
   "pygments_lexer": "ipython3",
   "version": "3.9.7"
  }
 },
 "nbformat": 4,
 "nbformat_minor": 2
}
