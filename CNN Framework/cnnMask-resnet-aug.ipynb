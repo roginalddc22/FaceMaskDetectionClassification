{
 "cells": [
  {
   "cell_type": "code",
   "execution_count": 1,
   "metadata": {},
   "outputs": [],
   "source": [
    "import matplotlib.pyplot as plt\n",
    "import numpy as np\n",
    "import os\n",
    "import pandas as pd\n",
    "import random\n",
    "import cv2\n",
    "import tensorflow as tf\n",
    "from sklearn.utils import shuffle\n",
    "from sklearn.model_selection import train_test_split\n",
    "from sklearn.datasets import load_sample_image"
   ]
  },
  {
   "cell_type": "markdown",
   "metadata": {},
   "source": [
    "### Preparing the Dataset"
   ]
  },
  {
   "cell_type": "code",
   "execution_count": 2,
   "metadata": {},
   "outputs": [],
   "source": [
    "BATCH_SIZE = 5\n",
    "NUM_EPOCHS = 15\n",
    "IMG_SIZE   = (128, 128)\n",
    "\n",
    "percent_val = 0.1\n",
    "\n",
    "train = pd.read_csv(\"../FINAL_DATASET/train_inc_220517_1710.csv\")\n",
    "test = pd.read_csv(\"../FINAL_DATASET/test_inc_220517_1710.csv\")\n",
    "\n"
   ]
  },
  {
   "cell_type": "code",
   "execution_count": 3,
   "metadata": {},
   "outputs": [
    {
     "data": {
      "text/plain": [
       "(4868, 8)"
      ]
     },
     "execution_count": 3,
     "metadata": {},
     "output_type": "execute_result"
    }
   ],
   "source": [
    "train.shape"
   ]
  },
  {
   "cell_type": "code",
   "execution_count": 4,
   "metadata": {},
   "outputs": [],
   "source": [
    "def adjust_image(input_image):\n",
    "    h, w, c      = input_image.shape\n",
    "\n",
    "    brightness = random.choice([1.0, 0.8, 1.2])\n",
    "    contrast   = random.choice([1.0, 0.8, 1.2])\n",
    "    saturation = random.choice([1.0, 0.8, 1.2])\n",
    "\n",
    "    img_proc = cv2.cvtColor(input_image, cv2.COLOR_RGB2HSV)\n",
    "    np.multiply(img_proc, np.array([ 1.0, saturation, 1.0 ], dtype = np.single), out = img_proc)\n",
    "    \n",
    "    img_proc[img_proc > 255] = 255\n",
    "    img_proc[img_proc < 0]   = 0\n",
    "\n",
    "    cv2.cvtColor(img_proc, cv2.COLOR_HSV2RGB, dst = img_proc)\n",
    "    np.multiply(img_proc, brightness, out = img_proc)\n",
    "    np.add(img_proc, ((1-contrast) * 100))\n",
    "\n",
    "    img_proc[img_proc > 255] = 255\n",
    "    img_proc[img_proc < 0]   = 0\n",
    "    \n",
    "    img_proc = img_proc.astype(np.float32) * (1.0 / 255.0)\n",
    "\n",
    "    return img_proc\n",
    "\n",
    "mask_train_gen  = tf.keras.preprocessing.image.ImageDataGenerator(preprocessing_function = adjust_image, validation_split = percent_val)\n",
    "mask_test_gen   = tf.keras.preprocessing.image.ImageDataGenerator(rescale = 1.0 / 255.0)\n"
   ]
  },
  {
   "cell_type": "code",
   "execution_count": 5,
   "metadata": {},
   "outputs": [
    {
     "name": "stdout",
     "output_type": "stream",
     "text": [
      "Found 4382 validated image filenames belonging to 4 classes.\n",
      "Found 486 validated image filenames belonging to 4 classes.\n",
      "Found 2087 validated image filenames belonging to 4 classes.\n"
     ]
    }
   ],
   "source": [
    "train_ds = mask_train_gen.flow_from_dataframe(train, '../FINAL_DATASET/croppedv2', \n",
    "                                              x_col       = 'newFilename', \n",
    "                                              y_col       = 'classname', \n",
    "                                              target_size = IMG_SIZE, \n",
    "                                              subset      = \"training\", \n",
    "                                              batch_size  = BATCH_SIZE)\n",
    "\n",
    "val_ds = mask_train_gen.flow_from_dataframe(train, '../FINAL_DATASET/croppedv2', \n",
    "                                            x_col       = 'newFilename', \n",
    "                                            y_col       = 'classname', \n",
    "                                            target_size = IMG_SIZE, \n",
    "                                            subset      = \"validation\", \n",
    "                                            batch_size  = BATCH_SIZE)\n",
    "\n",
    "test_ds = mask_test_gen.flow_from_dataframe(test, '../FINAL_DATASET/croppedv2', \n",
    "                                            x_col       = 'newFilename', \n",
    "                                            y_col       = 'classname',\n",
    "                                            target_size = IMG_SIZE, \n",
    "                                            batch_size  = BATCH_SIZE)"
   ]
  },
  {
   "cell_type": "markdown",
   "metadata": {},
   "source": [
    "### Usage and Type classifier"
   ]
  },
  {
   "cell_type": "code",
   "execution_count": 6,
   "metadata": {},
   "outputs": [],
   "source": [
    "cnn_model = tf.keras.models.Sequential([\n",
    "    tf.keras.applications.ResNet50(include_top = False, input_shape = (*IMG_SIZE,3), pooling = 'max'),\n",
    "    tf.keras.layers.Flatten(),\n",
    "    tf.keras.layers.Dense(128, activation = 'relu'),\n",
    "    tf.keras.layers.Dense(train['classname'].nunique(), activation = 'softmax'),\n",
    "])\n",
    "\n",
    "cnn_model.compile(optimizer = 'adam', loss = tf.losses.CategoricalCrossentropy(), metrics=['accuracy'])"
   ]
  },
  {
   "cell_type": "code",
   "execution_count": 7,
   "metadata": {
    "scrolled": false
   },
   "outputs": [
    {
     "name": "stdout",
     "output_type": "stream",
     "text": [
      "Epoch 1/15\n",
      "877/877 [==============================] - 66s 60ms/step - loss: 1.1717 - accuracy: 0.6102 - val_loss: 1.2936 - val_accuracy: 0.4198\n",
      "Epoch 2/15\n",
      "877/877 [==============================] - 50s 57ms/step - loss: 0.9119 - accuracy: 0.6319 - val_loss: 0.8903 - val_accuracy: 0.6605\n",
      "Epoch 3/15\n",
      "877/877 [==============================] - 51s 58ms/step - loss: 0.7702 - accuracy: 0.6712 - val_loss: 0.7697 - val_accuracy: 0.6687\n",
      "Epoch 4/15\n",
      "877/877 [==============================] - 50s 57ms/step - loss: 0.7643 - accuracy: 0.6885 - val_loss: 0.7444 - val_accuracy: 0.7037\n",
      "Epoch 5/15\n",
      "877/877 [==============================] - 49s 56ms/step - loss: 0.6908 - accuracy: 0.7303 - val_loss: 0.7803 - val_accuracy: 0.7160\n",
      "Epoch 6/15\n",
      "877/877 [==============================] - 49s 56ms/step - loss: 0.5968 - accuracy: 0.7720 - val_loss: 0.5777 - val_accuracy: 0.7798\n",
      "Epoch 7/15\n",
      "877/877 [==============================] - 50s 57ms/step - loss: 0.5565 - accuracy: 0.7798 - val_loss: 0.5329 - val_accuracy: 0.7840\n",
      "Epoch 8/15\n",
      "877/877 [==============================] - 49s 55ms/step - loss: 0.5477 - accuracy: 0.7869 - val_loss: 0.6881 - val_accuracy: 0.7613\n",
      "Epoch 9/15\n",
      "877/877 [==============================] - 49s 56ms/step - loss: 0.4999 - accuracy: 0.8051 - val_loss: 0.5160 - val_accuracy: 0.8086\n",
      "Epoch 10/15\n",
      "877/877 [==============================] - 51s 58ms/step - loss: 0.4839 - accuracy: 0.8172 - val_loss: 0.4608 - val_accuracy: 0.8395\n",
      "Epoch 11/15\n",
      "877/877 [==============================] - 50s 57ms/step - loss: 0.4731 - accuracy: 0.8236 - val_loss: 0.5195 - val_accuracy: 0.8045\n",
      "Epoch 12/15\n",
      "877/877 [==============================] - 49s 56ms/step - loss: 0.4602 - accuracy: 0.8252 - val_loss: 0.4951 - val_accuracy: 0.8148\n",
      "Epoch 13/15\n",
      "877/877 [==============================] - 49s 56ms/step - loss: 0.4285 - accuracy: 0.8384 - val_loss: 0.4729 - val_accuracy: 0.8272\n",
      "Epoch 14/15\n",
      "877/877 [==============================] - 49s 55ms/step - loss: 0.4136 - accuracy: 0.8480 - val_loss: 0.4347 - val_accuracy: 0.8477\n",
      "Epoch 15/15\n",
      "877/877 [==============================] - 49s 55ms/step - loss: 0.4039 - accuracy: 0.8505 - val_loss: 0.4400 - val_accuracy: 0.8313\n"
     ]
    }
   ],
   "source": [
    "history = cnn_model.fit(train_ds, validation_data = val_ds, epochs = NUM_EPOCHS)"
   ]
  },
  {
   "cell_type": "code",
   "execution_count": 8,
   "metadata": {},
   "outputs": [
    {
     "name": "stdout",
     "output_type": "stream",
     "text": [
      "418/418 [==============================] - 8s 18ms/step - loss: 0.5161 - accuracy: 0.8126\n"
     ]
    }
   ],
   "source": [
    "# CNN with resnet-50\n",
    "results = cnn_model.evaluate(test_ds)"
   ]
  },
  {
   "cell_type": "code",
   "execution_count": 9,
   "metadata": {},
   "outputs": [
    {
     "name": "stdout",
     "output_type": "stream",
     "text": [
      "Test loss:  0.5160889029502869\n",
      "Test acc:  0.8126497268676758\n"
     ]
    }
   ],
   "source": [
    "print('Test loss: ', results[0])\n",
    "print('Test acc: ', results[1])"
   ]
  },
  {
   "cell_type": "code",
   "execution_count": 10,
   "metadata": {},
   "outputs": [
    {
     "name": "stdout",
     "output_type": "stream",
     "text": [
      "Model: \"sequential\"\n",
      "_________________________________________________________________\n",
      " Layer (type)                Output Shape              Param #   \n",
      "=================================================================\n",
      " resnet50 (Functional)       (None, 2048)              23587712  \n",
      "                                                                 \n",
      " flatten (Flatten)           (None, 2048)              0         \n",
      "                                                                 \n",
      " dense (Dense)               (None, 128)               262272    \n",
      "                                                                 \n",
      " dense_1 (Dense)             (None, 4)                 516       \n",
      "                                                                 \n",
      "=================================================================\n",
      "Total params: 23,850,500\n",
      "Trainable params: 23,797,380\n",
      "Non-trainable params: 53,120\n",
      "_________________________________________________________________\n"
     ]
    }
   ],
   "source": [
    "cnn_model.summary()"
   ]
  },
  {
   "cell_type": "code",
   "execution_count": 11,
   "metadata": {
    "scrolled": true
   },
   "outputs": [
    {
     "data": {
      "image/png": "[encoded data removed]",
      "text/plain": [
       "<Figure size 432x288 with 1 Axes>"
      ]
     },
     "metadata": {
      "needs_background": "light"
     },
     "output_type": "display_data"
    }
   ],
   "source": [
    "plt.plot(history.history['loss'])\n",
    "plt.plot(history.history['val_loss'])\n",
    "plt.title('Loss')\n",
    "plt.xlabel('epoch')\n",
    "plt.ylabel('loss')\n",
    "plt.legend(['train', 'val'])\n",
    "plt.show()"
   ]
  },
  {
   "cell_type": "code",
   "execution_count": 12,
   "metadata": {},
   "outputs": [
    {
     "data": {
      "image/png": "[encoded data removed]",
      "text/plain": [
       "<Figure size 432x288 with 1 Axes>"
      ]
     },
     "metadata": {
      "needs_background": "light"
     },
     "output_type": "display_data"
    }
   ],
   "source": [
    "plt.plot(history.history['accuracy'])\n",
    "plt.plot(history.history['val_accuracy'])\n",
    "plt.title('Accuracy')\n",
    "plt.xlabel('epoch')\n",
    "plt.ylabel('accuracy')\n",
    "plt.legend(['train', 'val'])\n",
    "plt.show()"
   ]
  },
  {
   "cell_type": "code",
   "execution_count": null,
   "metadata": {},
   "outputs": [],
   "source": []
  }
 ],
 "metadata": {
  "interpreter": {
   "hash": "27b062b3dfe9606f0c2128da30d74d9d8143ed6a1aa3be014384e6a51e358474"
  },
  "kernelspec": {
   "display_name": "Python 3 (ipykernel)",
   "language": "python",
   "name": "python3"
  },
  "language_info": {
   "codemirror_mode": {
    "name": "ipython",
    "version": 3
   },
   "file_extension": ".py",
   "mimetype": "text/x-python",
   "name": "python",
   "nbconvert_exporter": "python",
   "pygments_lexer": "ipython3",
   "version": "3.9.7"
  }
 },
 "nbformat": 4,
 "nbformat_minor": 2
}
