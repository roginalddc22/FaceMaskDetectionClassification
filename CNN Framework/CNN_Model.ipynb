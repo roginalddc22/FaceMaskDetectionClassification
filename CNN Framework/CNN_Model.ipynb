{
 "cells": [
  {
   "cell_type": "code",
   "execution_count": 1,
   "metadata": {},
   "outputs": [],
   "source": [
    "import matplotlib.pyplot as plt\n",
    "import numpy as np\n",
    "import os\n",
    "import pandas as pd\n",
    "import cv2\n",
    "import tensorflow as tf\n",
    "from sklearn.utils import shuffle\n",
    "from sklearn.model_selection import train_test_split"
   ]
  },
  {
   "cell_type": "markdown",
   "metadata": {},
   "source": [
    "### Preparing the Dataset"
   ]
  },
  {
   "cell_type": "code",
   "execution_count": 2,
   "metadata": {},
   "outputs": [
    {
     "name": "stdout",
     "output_type": "stream",
     "text": [
      "usage    1372\n",
      "type        0\n",
      "dtype: int64\n",
      "\n",
      "usage                     type   \n",
      "face_with_mask            valid      4172\n",
      "face_no_mask              invalid    2938\n",
      "face_with_mask_incorrect  valid       150\n",
      "dtype: int64\n"
     ]
    }
   ],
   "source": [
    "BATCH_SIZE = 65\n",
    "IMG_SIZE   = (128, 128)\n",
    "\n",
    "percent_train = 0.7\n",
    "percent_val   = 0.1\n",
    "percent_test  = 0.2\n",
    "\n",
    "IMAGES_DIR  = '../DatasetCleaning/'\n",
    "USAGE_DIRS  = [ 'croppedface_no_mask', 'croppedface_with_mask', 'croppedface_with_mask_incorrect' ]\n",
    "TYPE_DIRS   = { 'invalid' : ['croppedface_other_covering', 'croppedface_no_mask'], \n",
    "                'valid'   : ['croppedface_with_mask', 'croppedface_with_mask_incorrect'] }\n",
    "\n",
    "img_usage_pairs = []\n",
    "img_type_pairs  = []\n",
    "\n",
    "for dir in USAGE_DIRS:\n",
    "    class_name      = dir[len('cropped') : ]\n",
    "    img_usage_pairs = img_usage_pairs + [ ('{}/{}'.format(dir, x), class_name) for x in os.listdir(IMAGES_DIR + dir)]\n",
    "\n",
    "for class_name, dirs in TYPE_DIRS.items():\n",
    "    for dir in dirs:\n",
    "        img_type_pairs = img_type_pairs + [('{}/{}'.format(dir, x), class_name) for x in os.listdir(IMAGES_DIR + dir)]\n",
    "    \n",
    "\n",
    "mask_usage_df = pd.DataFrame(img_usage_pairs, columns = ['filename', 'usage']).set_index('filename')\n",
    "mask_type_df  = pd.DataFrame(img_type_pairs, columns = ['filename', 'type']).set_index('filename')\n",
    "\n",
    "mask_usage_type_df = mask_usage_df.join(mask_type_df, how = 'right')\n",
    "\n",
    "# This should be equivalent to the number of images in croppedface_other_covering\n",
    "print(mask_usage_type_df.isna().sum())\n",
    "mask_usage_type_df['usage'] = mask_usage_type_df['usage'].fillna('face_no_mask')\n",
    "mask_usage_type_df\n",
    "\n",
    "print()\n",
    "print(mask_usage_type_df.value_counts())\n",
    "mask_usage_type_df['class'] = mask_usage_type_df['usage']  + '--' + mask_usage_type_df['type']\n",
    "mask_usage_type_df = shuffle(mask_usage_type_df.reset_index())\n",
    "mask_usage_type_df\n",
    "\n",
    "mask_train, mask_test = train_test_split(mask_usage_type_df, test_size = percent_test)"
   ]
  },
  {
   "cell_type": "code",
   "execution_count": 3,
   "metadata": {},
   "outputs": [
    {
     "name": "stdout",
     "output_type": "stream",
     "text": [
      "Found 5082 validated image filenames belonging to 3 classes.\n",
      "Found 726 validated image filenames belonging to 3 classes.\n"
     ]
    }
   ],
   "source": [
    "train_val_split = percent_val / (1 - percent_test)\n",
    "mask_image_gen  = tf.keras.preprocessing.image.ImageDataGenerator(rescale = 1.0 / 255, \n",
    "                                                                 validation_split = train_val_split)\n",
    "train_ds       = mask_image_gen.flow_from_dataframe(mask_train, \n",
    "                                                    directory   = IMAGES_DIR,\n",
    "                                                    x_col       = 'filename',\n",
    "                                                    y_col       = 'class',\n",
    "                                                    target_size = IMG_SIZE,\n",
    "                                                    subset      = \"training\",\n",
    "                                                    batch_size  = BATCH_SIZE)\n",
    "val_ds       = mask_image_gen.flow_from_dataframe(mask_train, \n",
    "                                                  directory   = IMAGES_DIR,\n",
    "                                                  x_col       = 'filename',\n",
    "                                                  y_col       = 'class',\n",
    "                                                  target_size = IMG_SIZE,\n",
    "                                                  subset      = \"validation\",\n",
    "                                                  batch_size  = BATCH_SIZE)"
   ]
  },
  {
   "cell_type": "markdown",
   "metadata": {},
   "source": [
    "### Face mask usage classifier"
   ]
  },
  {
   "cell_type": "code",
   "execution_count": 4,
   "metadata": {},
   "outputs": [],
   "source": [
    "usage_model = tf.keras.models.Sequential([\n",
    "    tf.keras.applications.ResNet50(include_top = False, input_shape = (*IMG_SIZE,3), pooling = 'max'),\n",
    "    tf.keras.layers.Flatten(),\n",
    "    tf.keras.layers.Dense(128, activation = 'relu'),\n",
    "    tf.keras.layers.Dense(3, activation = 'softmax'),\n",
    "])\n",
    "usage_model.compile(optimizer = 'adam', loss = tf.losses.CategoricalCrossentropy(), metrics=['accuracy'])"
   ]
  },
  {
   "cell_type": "code",
   "execution_count": null,
   "metadata": {},
   "outputs": [],
   "source": [
    "history = usage_model.fit(train_ds, validation_data = val_ds, epochs=10)"
   ]
  }
 ],
 "metadata": {
  "interpreter": {
   "hash": "27b062b3dfe9606f0c2128da30d74d9d8143ed6a1aa3be014384e6a51e358474"
  },
  "kernelspec": {
   "display_name": "Python 3.9.7 ('base')",
   "language": "python",
   "name": "python3"
  },
  "language_info": {
   "codemirror_mode": {
    "name": "ipython",
    "version": 3
   },
   "file_extension": ".py",
   "mimetype": "text/x-python",
   "name": "python",
   "nbconvert_exporter": "python",
   "pygments_lexer": "ipython3",
   "version": "3.9.7"
  },
  "orig_nbformat": 4
 },
 "nbformat": 4,
 "nbformat_minor": 2
}
